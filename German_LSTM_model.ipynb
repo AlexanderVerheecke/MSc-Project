{
  "cells": [
    {
      "cell_type": "markdown",
      "metadata": {
        "id": "view-in-github",
        "colab_type": "text"
      },
      "source": [
        "<a href=\"https://colab.research.google.com/github/AlexanderVerheecke/TwitterSentimentAnalysis/blob/main/German_LSTM_model.ipynb\" target=\"_parent\"><img src=\"https://colab.research.google.com/assets/colab-badge.svg\" alt=\"Open In Colab\"/></a>"
      ]
    },
    {
      "cell_type": "markdown",
      "source": [
        "How to run:\n",
        "The dataset used in this colab file is taken from my personal google Drive folder. I was unable to link the gitlab file to here. If the system is not connected to my Google Drive folder, the user will need to download the \n",
        "datasets themselves from : https://drive.google.com/drive/folders/1hxBtAXu-IfoajBtJIG_8q7lFcmcLWYJu?usp=sharing \n",
        "\n",
        "- DAI data: DAI TU Berlin -> de_sentiment_UNIQUE.csv\n",
        "- German: OwnTweets -> German -> latestGerman.csv\n",
        "- German translation: OwnTweets -> German -> latestEnglishTranslatedToGERMAN.csv\n",
        "\n",
        "\n",
        "Further, since traiing the model will take a long time, it was saved andnloaded in for easier performance checking. The model can be loaded from:\n",
        "https://drive.google.com/drive/folders/1Yj06VqsfPMaTlfnJEdInLKYXmd4c7nch?usp=sharing\n",
        "\n",
        "The model to load is USE_GER_LSTM_OOV. The path to the model should be inserted under \"RESULTS TO COMPARE\" as:\n",
        "\n",
        "\n",
        "```\n",
        "LOADED_GER_LSTM_OOV = tf.keras.models.load_model('USE_GER_LSTM_OOV')\n",
        "```\n",
        "\n",
        "The dataset and model will need to be uploaded to Colabs files folder on left and the file path copied to the respective dataset reading.\n",
        "\n",
        "Once the dataset is imported correctly, the user will need to run the following cells in order to run the code.\n",
        "- cells under IMPORT\n",
        "- cells under DATA CLEANING FUNCTION\n",
        "- cells under DATA READING AND CLEANING\n",
        "- ALL the cells under MODEL PERFORMANCE WITH LOADED MODEL\n",
        "\n",
        "If the user wants to also train the model again, they will simply need to 'run all' under 'runtime'.\n"
      ],
      "metadata": {
        "id": "NSlwwClsYjzx"
      }
    },
    {
      "cell_type": "markdown",
      "source": [
        "# IMPORT"
      ],
      "metadata": {
        "id": "67Usshj-Ujpu"
      }
    },
    {
      "cell_type": "code",
      "execution_count": 1,
      "metadata": {
        "id": "TsMtVkHQUdjE"
      },
      "outputs": [],
      "source": [
        "import numpy as np \n",
        "import pandas as pd\n",
        "import matplotlib.pyplot as plt\n",
        "from keras.preprocessing.text import Tokenizer\n",
        "from keras.preprocessing.sequence import pad_sequences\n",
        "from keras.models import Sequential\n",
        "from keras.layers import Dense, Embedding, LSTM, SpatialDropout1D\n",
        "from sklearn.model_selection import train_test_split\n",
        "from keras.utils.np_utils import to_categorical\n",
        "from keras.callbacks import EarlyStopping\n",
        "from keras.layers import Dropout\n",
        "import re\n",
        "from nltk.corpus import stopwords\n",
        "from nltk import word_tokenize\n",
        "\n",
        "from sklearn.metrics import confusion_matrix, classification_report, accuracy_score"
      ]
    },
    {
      "cell_type": "code",
      "source": [
        "from google.colab import drive\n",
        "drive.mount('/content/drive')"
      ],
      "metadata": {
        "colab": {
          "base_uri": "https://localhost:8080/"
        },
        "id": "F3hsr2hYUnEi",
        "outputId": "cb8bef1e-3070-45a0-bd78-85a7927ee7b0"
      },
      "execution_count": null,
      "outputs": [
        {
          "output_type": "stream",
          "name": "stdout",
          "text": [
            "Drive already mounted at /content/drive; to attempt to forcibly remount, call drive.mount(\"/content/drive\", force_remount=True).\n"
          ]
        }
      ]
    },
    {
      "cell_type": "markdown",
      "source": [
        "# DATA CLEANING FUNCTION"
      ],
      "metadata": {
        "id": "TfQMkEAiUq5f"
      }
    },
    {
      "cell_type": "code",
      "source": [
        "import re\n",
        "import nltk\n",
        "from nltk.stem.cistem import Cistem\n",
        "from nltk.stem import *\n",
        "from nltk.stem.porter import *\n",
        "\n",
        "from nltk.corpus import stopwords\n",
        "nltk.download(\"stopwords\")\n",
        "from nltk.tokenize import TweetTokenizer \n",
        "\n",
        "tweet_tokenizer = TweetTokenizer()\n",
        "stemmer_ENG = PorterStemmer()\n",
        "stemmer_GER = Cistem()\n",
        "\n",
        "\n",
        "LINKS = \"http\\S+\"\n",
        "USERNAMES = \"@\\S+\"\n",
        "CONSECUTIVE = '[.]{2,}'\n",
        "NON_ALPHA = '(?:(?<=^)|(?<=\\s))(\\d+[.,]*)+(?=$|\\s)'\n",
        "HASHTAG = '#'\n",
        "RT = 'rt'\n",
        "SYMBOLS = '[^\\w& ]+'\n",
        "\n",
        "\n",
        "def tweet_to_words_GER(text):\n",
        "    text = text.lower() # Convert to lower case\n",
        "    text = re.sub(LINKS, \"XXXLINKXXX\", text) # Replace links with token\n",
        "    text = re.sub(USERNAMES, \"XXXUSERNAMEXXX\", text) # Replace mentions with token\n",
        "    text = re.sub(CONSECUTIVE, ' ... ', text) # Unify consecutive periods\n",
        "    text = re.sub(NON_ALPHA, \"\", text) # Remove all numbers not being part of alphanumeric word\n",
        "    text = re.sub(HASHTAG, \"\", text) # Remove '#' in front of hashtags\n",
        "    text = re.sub(RT, \"\", text) # Remove 'RT'\n",
        "    text = re.sub(SYMBOLS, \" \", text) # removes symbols\n",
        "    text = text.lower()\n",
        "\n",
        "    # words = tweet_tokenizer.tokenize(text)\n",
        "    # words = [w for w in words if w not in stopwords.words(\"german\")] # Remove stopwords\n",
        "    # words = [stemmer_GER.stem(w) for w in words] # Stem\n",
        "    \n",
        "    return text\n",
        "\n",
        "\n",
        "def tweet_to_words_ENG(text):\n",
        "    text = text.lower() # Convert to lower case\n",
        "    # text = expand(text) #expands contractions\n",
        "    text = re.sub(LINKS, \"XXXLINKXXX\", text) # Replace links with token\n",
        "    text = re.sub(USERNAMES, \"XXXUSERNAMEXXX\", text) # Replace mentions with token\n",
        "    text = re.sub(CONSECUTIVE, ' ... ', text) # Unify consecutive periods\n",
        "    text = re.sub(NON_ALPHA, \"\", text) # Remove all numbers not being part of alphanumeric word\n",
        "    text = re.sub(HASHTAG, \"\", text) # Remove '#' in front of hashtags\n",
        "    text = re.sub(RT, \"\", text) # Remove 'RT'\n",
        "    text = re.sub(SYMBOLS, \" \", text) # removes symbols\n",
        "    text = text.lower()\n",
        "    # words = tweet_tokenizer.tokenize(text)\n",
        "    # words = [w for w in words if w not in stopwords.words(\"english\")] # Remove stopwords\n",
        "    # words = [stemmer_ENG.stem(w) for w in words] # Stem\n",
        "    # words = \" \".join(words).lower()\n",
        "\n",
        "    return text"
      ],
      "metadata": {
        "colab": {
          "base_uri": "https://localhost:8080/"
        },
        "id": "U_uLABJ7Uu7l",
        "outputId": "3c05f1c7-6552-40af-dc7c-c11cb55ed75c"
      },
      "execution_count": 2,
      "outputs": [
        {
          "output_type": "stream",
          "name": "stderr",
          "text": [
            "[nltk_data] Downloading package stopwords to /root/nltk_data...\n",
            "[nltk_data]   Unzipping corpora/stopwords.zip.\n"
          ]
        }
      ]
    },
    {
      "cell_type": "markdown",
      "source": [
        "# DATA READING AND CLEANING"
      ],
      "metadata": {
        "id": "_sNebpIVUzFx"
      }
    },
    {
      "cell_type": "code",
      "source": [
        "DAI = pd.read_csv('/content/drive/MyDrive/Education/University/Master/Classes/Thesis/Data/DAI TU Berlin/de_sentiment_UNIQUE.csv')\n",
        "DAI = pd.DataFrame(DAI)\n",
        "\n",
        "German = pd.read_csv('/content/drive/MyDrive/Education/University/Master/Classes/Thesis/Data/OwnTweets/German/latestGerman.csv')\n",
        "German = pd.DataFrame(German)\n",
        "\n",
        "German_translation = pd.read_csv('/content/drive/MyDrive/Education/University/Master/Classes/Thesis/Data/OwnTweets/German/latestEnglishTranslatedToGERMAN.csv')\n",
        "German_translation = pd.DataFrame(German_translation)\n",
        "\n",
        "German = German[['Sentiment', 'Tweet']]\n",
        "DAI = DAI[['Sentiment', 'Tweet']]\n",
        "German_translation = German_translation[['Sentiment', 'Tweet']]\n",
        "pd.set_option('display.max_colwidth', None)\n",
        "\n",
        "DAI['clean'] = DAI[\"Tweet\"].apply(tweet_to_words_ENG)\n",
        "German['clean'] = German['Tweet'].apply(tweet_to_words_ENG)\n",
        "German_translation['clean'] = German_translation['Tweet'].apply(tweet_to_words_ENG)\n",
        "\n",
        "maps = {-1: \"negative\", 0:\"neutral\", 1:\"positive\"}\n",
        "DAI['Sentiment'] = DAI['Sentiment'].map(maps)\n",
        "German['Sentiment'] = German['Sentiment'].map(maps)\n",
        "German_translation['Sentiment'] = German_translation['Sentiment'].map(maps)"
      ],
      "metadata": {
        "id": "8o2xQpioU01L"
      },
      "execution_count": 3,
      "outputs": []
    },
    {
      "cell_type": "code",
      "source": [
        "German"
      ],
      "metadata": {
        "colab": {
          "base_uri": "https://localhost:8080/",
          "height": 670
        },
        "id": "eUdu_tBTTzZ3",
        "outputId": "4223fe68-c923-4f8e-804b-79740d564349"
      },
      "execution_count": null,
      "outputs": [
        {
          "output_type": "execute_result",
          "data": {
            "text/plain": [
              "    Sentiment  \\\n",
              "0     neutral   \n",
              "1     neutral   \n",
              "2    negative   \n",
              "3     neutral   \n",
              "4     neutral   \n",
              "..        ...   \n",
              "941   neutral   \n",
              "942  negative   \n",
              "943   neutral   \n",
              "944   neutral   \n",
              "945   neutral   \n",
              "\n",
              "                                                                                                                                                                                                                                                                                                                             Tweet  \\\n",
              "0                                                                                                                                                                                                                               @Marcel126610 Irgendwie schon. Aber ...wer will ihn denn dann auch irgendwo rumsitzen haben...🤷‍♀️   \n",
              "1                                                                                                                                                                                                                                                                                          @PewPeeew aight nichts leichter als das   \n",
              "2    @LibertyHannes @RikeWaldfee @MarcoBuschmann Uhhhhh echt jetzt \" ich darf töten wenn ich will\" mimimi 😭 und was mit euren Blagen ist, ist mir doch egal. Puh was ich dazu sage #FDPmachtkrankundarm  und #FDPunter5Prozent . Ihr seit auf einen guten Weg . 😂 Ach #dielinke erholt sich gerade in den ersten Umfragen wider. 😂   \n",
              "3                                          Unter #IhrHabtEuchSelbstAusgegrenzt meinte gerade ein Querdenker,  es sollte doch konsequenzlos möglich sein sich nicht impfen zu lassen.   Tja was soll ich sagen: Für Pfleger und Ärzte am Ende ihrer Kräfte war es auch nicht konsequenzlos, wenn Querdenker die Impfung verweigern.   \n",
              "4                                                                                                                                                                             Und zur Sicherheit noch einmal: es geht hier um die Etikettierung, nicht das Testprodukt selbst. Kein Einfluss auf Ergebnis. https://t.co/Nne9nYSPgV   \n",
              "..                                                                                                                                                                                                                                                                                                                             ...   \n",
              "941                                                                                                                                                                                                                                         Ich würde es denn Blauen von ganzem Herzen gönnen. Trotz meiner Liebe zum #VfB #SVKSGF   \n",
              "942                                                                             Nicht, dass sich Querpfosten jemals irgend einer Nähe zu der uns alle umgebenden Realität schuldig gemacht hätten, aber dennoch: GEGEN WELCHE CORONA-MAẞNAHNEN DEMONSTRIEREN DIE ZUM FICK DIE SIND DOCH ALLE ABGESCHAFFT!! https://t.co/OSnrFkr2EW   \n",
              "943                                                                                                                                                                               @Tob_Sch Die ständige Angst sich anzustecken. Die sozial und emotional sehr herausfordernden SuS. Die mangelnde Solidarität in der Gesellschaft.   \n",
              "944                                                                                                                                                                                                                                                                             @kopfkaputt0 Für dich werde ich zu ner zaziki soße   \n",
              "945                                                                                                                                                                                                                                                                                                seid ihr dm oder rossmann girls   \n",
              "\n",
              "                                                                                                                                                                                                                                                                                                                           clean  \n",
              "0                                                                                                                                                                                                                               xxxusernamexxx irgendwie schon  aber    wer will ihn denn dann auch irgendwo rumsitzen haben      \n",
              "1                                                                                                                                                                                                                                                                                   xxxusernamexxx aight nichts leichter als das  \n",
              "2    xxxusernamexxx xxxusernamexxx xxxusernamexxx uhhhhh echt jetzt   ich darf töten wenn ich will  mimimi   und was mit euren blagen ist  ist mir doch egal  puh was ich dazu sage fdpmachtkrankundarm  und fdpunter5prozent   ihr seit auf einen guten weg     ach dielinke erholt sich gerade in den ersten umfragen wider     \n",
              "3                                         unter ihrhabteuchselbstausgegrenzt meinte gerade ein querdenker   es sollte doch konsequenzlos möglich sein sich nicht impfen zu lassen    tja was soll ich sagen  für pfleger und ärzte am ende ihrer kräfte war es auch nicht konsequenzlos  wenn querdenker die impfung verweigern   \n",
              "4                                                                                                                                                                                        und zur sicherheit noch einmal  es geht hier um die etikettierung  nicht das testprodukt selbst  kein einfluss auf ergebnis  xxxlinkxxx  \n",
              "..                                                                                                                                                                                                                                                                                                                           ...  \n",
              "941                                                                                                                                                                                                                                         ich würde es denn blauen von ganzem herzen gönnen  trotz meiner liebe zum vfb svksgf  \n",
              "942                                                                                         nicht  dass sich querpfosten jemals irgend einer nähe zu der uns alle umgebenden realität schuldig gemacht hätten  aber dennoch  gegen welche corona maßnahnen demonstrieren die zum fick die sind doch alle abgeschafft  xxxlinkxxx  \n",
              "943                                                                                                                                                                       xxxusernamexxx die ständige angst sich anzustecken  die sozial und emotional sehr herausfordernden sus  die mangelnde solidarität in der gesellschaft   \n",
              "944                                                                                                                                                                                                                                                                         xxxusernamexxx für dich werde ich zu ner zaziki soße  \n",
              "945                                                                                                                                                                                                                                                                                              seid ihr dm oder rossmann girls  \n",
              "\n",
              "[946 rows x 3 columns]"
            ],
            "text/html": [
              "\n",
              "  <div id=\"df-3159e271-13fd-478b-8d9f-c50148249a60\">\n",
              "    <div class=\"colab-df-container\">\n",
              "      <div>\n",
              "<style scoped>\n",
              "    .dataframe tbody tr th:only-of-type {\n",
              "        vertical-align: middle;\n",
              "    }\n",
              "\n",
              "    .dataframe tbody tr th {\n",
              "        vertical-align: top;\n",
              "    }\n",
              "\n",
              "    .dataframe thead th {\n",
              "        text-align: right;\n",
              "    }\n",
              "</style>\n",
              "<table border=\"1\" class=\"dataframe\">\n",
              "  <thead>\n",
              "    <tr style=\"text-align: right;\">\n",
              "      <th></th>\n",
              "      <th>Sentiment</th>\n",
              "      <th>Tweet</th>\n",
              "      <th>clean</th>\n",
              "    </tr>\n",
              "  </thead>\n",
              "  <tbody>\n",
              "    <tr>\n",
              "      <th>0</th>\n",
              "      <td>neutral</td>\n",
              "      <td>@Marcel126610 Irgendwie schon. Aber ...wer will ihn denn dann auch irgendwo rumsitzen haben...🤷‍♀️</td>\n",
              "      <td>xxxusernamexxx irgendwie schon  aber    wer will ihn denn dann auch irgendwo rumsitzen haben</td>\n",
              "    </tr>\n",
              "    <tr>\n",
              "      <th>1</th>\n",
              "      <td>neutral</td>\n",
              "      <td>@PewPeeew aight nichts leichter als das</td>\n",
              "      <td>xxxusernamexxx aight nichts leichter als das</td>\n",
              "    </tr>\n",
              "    <tr>\n",
              "      <th>2</th>\n",
              "      <td>negative</td>\n",
              "      <td>@LibertyHannes @RikeWaldfee @MarcoBuschmann Uhhhhh echt jetzt \" ich darf töten wenn ich will\" mimimi 😭 und was mit euren Blagen ist, ist mir doch egal. Puh was ich dazu sage #FDPmachtkrankundarm  und #FDPunter5Prozent . Ihr seit auf einen guten Weg . 😂 Ach #dielinke erholt sich gerade in den ersten Umfragen wider. 😂</td>\n",
              "      <td>xxxusernamexxx xxxusernamexxx xxxusernamexxx uhhhhh echt jetzt   ich darf töten wenn ich will  mimimi   und was mit euren blagen ist  ist mir doch egal  puh was ich dazu sage fdpmachtkrankundarm  und fdpunter5prozent   ihr seit auf einen guten weg     ach dielinke erholt sich gerade in den ersten umfragen wider</td>\n",
              "    </tr>\n",
              "    <tr>\n",
              "      <th>3</th>\n",
              "      <td>neutral</td>\n",
              "      <td>Unter #IhrHabtEuchSelbstAusgegrenzt meinte gerade ein Querdenker,  es sollte doch konsequenzlos möglich sein sich nicht impfen zu lassen.   Tja was soll ich sagen: Für Pfleger und Ärzte am Ende ihrer Kräfte war es auch nicht konsequenzlos, wenn Querdenker die Impfung verweigern.</td>\n",
              "      <td>unter ihrhabteuchselbstausgegrenzt meinte gerade ein querdenker   es sollte doch konsequenzlos möglich sein sich nicht impfen zu lassen    tja was soll ich sagen  für pfleger und ärzte am ende ihrer kräfte war es auch nicht konsequenzlos  wenn querdenker die impfung verweigern</td>\n",
              "    </tr>\n",
              "    <tr>\n",
              "      <th>4</th>\n",
              "      <td>neutral</td>\n",
              "      <td>Und zur Sicherheit noch einmal: es geht hier um die Etikettierung, nicht das Testprodukt selbst. Kein Einfluss auf Ergebnis. https://t.co/Nne9nYSPgV</td>\n",
              "      <td>und zur sicherheit noch einmal  es geht hier um die etikettierung  nicht das testprodukt selbst  kein einfluss auf ergebnis  xxxlinkxxx</td>\n",
              "    </tr>\n",
              "    <tr>\n",
              "      <th>...</th>\n",
              "      <td>...</td>\n",
              "      <td>...</td>\n",
              "      <td>...</td>\n",
              "    </tr>\n",
              "    <tr>\n",
              "      <th>941</th>\n",
              "      <td>neutral</td>\n",
              "      <td>Ich würde es denn Blauen von ganzem Herzen gönnen. Trotz meiner Liebe zum #VfB #SVKSGF</td>\n",
              "      <td>ich würde es denn blauen von ganzem herzen gönnen  trotz meiner liebe zum vfb svksgf</td>\n",
              "    </tr>\n",
              "    <tr>\n",
              "      <th>942</th>\n",
              "      <td>negative</td>\n",
              "      <td>Nicht, dass sich Querpfosten jemals irgend einer Nähe zu der uns alle umgebenden Realität schuldig gemacht hätten, aber dennoch: GEGEN WELCHE CORONA-MAẞNAHNEN DEMONSTRIEREN DIE ZUM FICK DIE SIND DOCH ALLE ABGESCHAFFT!! https://t.co/OSnrFkr2EW</td>\n",
              "      <td>nicht  dass sich querpfosten jemals irgend einer nähe zu der uns alle umgebenden realität schuldig gemacht hätten  aber dennoch  gegen welche corona maßnahnen demonstrieren die zum fick die sind doch alle abgeschafft  xxxlinkxxx</td>\n",
              "    </tr>\n",
              "    <tr>\n",
              "      <th>943</th>\n",
              "      <td>neutral</td>\n",
              "      <td>@Tob_Sch Die ständige Angst sich anzustecken. Die sozial und emotional sehr herausfordernden SuS. Die mangelnde Solidarität in der Gesellschaft.</td>\n",
              "      <td>xxxusernamexxx die ständige angst sich anzustecken  die sozial und emotional sehr herausfordernden sus  die mangelnde solidarität in der gesellschaft</td>\n",
              "    </tr>\n",
              "    <tr>\n",
              "      <th>944</th>\n",
              "      <td>neutral</td>\n",
              "      <td>@kopfkaputt0 Für dich werde ich zu ner zaziki soße</td>\n",
              "      <td>xxxusernamexxx für dich werde ich zu ner zaziki soße</td>\n",
              "    </tr>\n",
              "    <tr>\n",
              "      <th>945</th>\n",
              "      <td>neutral</td>\n",
              "      <td>seid ihr dm oder rossmann girls</td>\n",
              "      <td>seid ihr dm oder rossmann girls</td>\n",
              "    </tr>\n",
              "  </tbody>\n",
              "</table>\n",
              "<p>946 rows × 3 columns</p>\n",
              "</div>\n",
              "      <button class=\"colab-df-convert\" onclick=\"convertToInteractive('df-3159e271-13fd-478b-8d9f-c50148249a60')\"\n",
              "              title=\"Convert this dataframe to an interactive table.\"\n",
              "              style=\"display:none;\">\n",
              "        \n",
              "  <svg xmlns=\"http://www.w3.org/2000/svg\" height=\"24px\"viewBox=\"0 0 24 24\"\n",
              "       width=\"24px\">\n",
              "    <path d=\"M0 0h24v24H0V0z\" fill=\"none\"/>\n",
              "    <path d=\"M18.56 5.44l.94 2.06.94-2.06 2.06-.94-2.06-.94-.94-2.06-.94 2.06-2.06.94zm-11 1L8.5 8.5l.94-2.06 2.06-.94-2.06-.94L8.5 2.5l-.94 2.06-2.06.94zm10 10l.94 2.06.94-2.06 2.06-.94-2.06-.94-.94-2.06-.94 2.06-2.06.94z\"/><path d=\"M17.41 7.96l-1.37-1.37c-.4-.4-.92-.59-1.43-.59-.52 0-1.04.2-1.43.59L10.3 9.45l-7.72 7.72c-.78.78-.78 2.05 0 2.83L4 21.41c.39.39.9.59 1.41.59.51 0 1.02-.2 1.41-.59l7.78-7.78 2.81-2.81c.8-.78.8-2.07 0-2.86zM5.41 20L4 18.59l7.72-7.72 1.47 1.35L5.41 20z\"/>\n",
              "  </svg>\n",
              "      </button>\n",
              "      \n",
              "  <style>\n",
              "    .colab-df-container {\n",
              "      display:flex;\n",
              "      flex-wrap:wrap;\n",
              "      gap: 12px;\n",
              "    }\n",
              "\n",
              "    .colab-df-convert {\n",
              "      background-color: #E8F0FE;\n",
              "      border: none;\n",
              "      border-radius: 50%;\n",
              "      cursor: pointer;\n",
              "      display: none;\n",
              "      fill: #1967D2;\n",
              "      height: 32px;\n",
              "      padding: 0 0 0 0;\n",
              "      width: 32px;\n",
              "    }\n",
              "\n",
              "    .colab-df-convert:hover {\n",
              "      background-color: #E2EBFA;\n",
              "      box-shadow: 0px 1px 2px rgba(60, 64, 67, 0.3), 0px 1px 3px 1px rgba(60, 64, 67, 0.15);\n",
              "      fill: #174EA6;\n",
              "    }\n",
              "\n",
              "    [theme=dark] .colab-df-convert {\n",
              "      background-color: #3B4455;\n",
              "      fill: #D2E3FC;\n",
              "    }\n",
              "\n",
              "    [theme=dark] .colab-df-convert:hover {\n",
              "      background-color: #434B5C;\n",
              "      box-shadow: 0px 1px 3px 1px rgba(0, 0, 0, 0.15);\n",
              "      filter: drop-shadow(0px 1px 2px rgba(0, 0, 0, 0.3));\n",
              "      fill: #FFFFFF;\n",
              "    }\n",
              "  </style>\n",
              "\n",
              "      <script>\n",
              "        const buttonEl =\n",
              "          document.querySelector('#df-3159e271-13fd-478b-8d9f-c50148249a60 button.colab-df-convert');\n",
              "        buttonEl.style.display =\n",
              "          google.colab.kernel.accessAllowed ? 'block' : 'none';\n",
              "\n",
              "        async function convertToInteractive(key) {\n",
              "          const element = document.querySelector('#df-3159e271-13fd-478b-8d9f-c50148249a60');\n",
              "          const dataTable =\n",
              "            await google.colab.kernel.invokeFunction('convertToInteractive',\n",
              "                                                     [key], {});\n",
              "          if (!dataTable) return;\n",
              "\n",
              "          const docLinkHtml = 'Like what you see? Visit the ' +\n",
              "            '<a target=\"_blank\" href=https://colab.research.google.com/notebooks/data_table.ipynb>data table notebook</a>'\n",
              "            + ' to learn more about interactive tables.';\n",
              "          element.innerHTML = '';\n",
              "          dataTable['output_type'] = 'display_data';\n",
              "          await google.colab.output.renderOutput(dataTable, element);\n",
              "          const docLink = document.createElement('div');\n",
              "          docLink.innerHTML = docLinkHtml;\n",
              "          element.appendChild(docLink);\n",
              "        }\n",
              "      </script>\n",
              "    </div>\n",
              "  </div>\n",
              "  "
            ]
          },
          "metadata": {},
          "execution_count": 5
        }
      ]
    },
    {
      "cell_type": "code",
      "source": [
        "German_translation"
      ],
      "metadata": {
        "colab": {
          "base_uri": "https://localhost:8080/",
          "height": 604
        },
        "id": "UOVOy0rSCi5E",
        "outputId": "4c2c8d13-109c-427b-83f4-18cfaf038c13"
      },
      "execution_count": null,
      "outputs": [
        {
          "output_type": "execute_result",
          "data": {
            "text/plain": [
              "    Sentiment  \\\n",
              "0    negative   \n",
              "1     neutral   \n",
              "2    positive   \n",
              "3     neutral   \n",
              "4     neutral   \n",
              "..        ...   \n",
              "973   neutral   \n",
              "974   neutral   \n",
              "975   neutral   \n",
              "976   neutral   \n",
              "977  positive   \n",
              "\n",
              "                                                                                                                                                                                                                                                                                       Tweet  \\\n",
              "0                                                                                                                                                                                                                                   Wenn du ein Ex-Drama hast, schlag mich bitte nicht an ✌🏽   \n",
              "1    Wenn die Weltbank die Menschen unterstützen will, muss sie #Äthiopien dazu drängen, #TigraySiege zu beenden und ungehinderten humanitären Zugang zu #Tigray zu ermöglichen. #WorldBankStopFundingTigrayGenocide @SecBlinken @JosepBorrellF @WorldBank @UN_HRC @DavidMalpassWBG @IMFNews   \n",
              "2                                                                                                                                                                                   Amusan und Duplantis, zwei Athleten, die bei Oregon 22 Rekorde gebrochen haben – https://t.co/z4ry6UPGgm   \n",
              "3                                                                                                                                                                                                                                                               FAKT https://t.co/0ZJlCLlytP   \n",
              "4                                                                                                      220726 © 时间先生Esquire — ESQUIRE China teilt ein Teaser-Bild von Wu Lei auf dem kommenden Cover der August-Ausgabe von ESQUIRE! #吴磊 • #wulei • #leowu • #우飮書信 ࿐ https://t.co/lbm2HKv0Df   \n",
              "..                                                                                                                                                                                                                                                                                       ...   \n",
              "973                                                                                                                                                                                                                                                                    220727 🐹💬 UPDATE „hu“   \n",
              "974                                                                                                                                                                                              @goldkorn Ich wünschte, ich spreche fließend Spanisch und nicht Chinesisch. Wäre nützlicher   \n",
              "975                                                                                                                                                                                                So sehr mir diese Streiks den Samstag erschweren, ich unterstütze die Streiks trotzdem ✊🏼   \n",
              "976                                                                                                                                                               @FredUnbound Lamm und sogar Ziege sind in den USA kein wichtiges Fleisch, was im Gegensatz zum Rest der ganzen Welt steht.   \n",
              "977                                                                                                                                                                                                                                                       @AdamusMine Großartiger Schachzug.   \n",
              "\n",
              "                                                                                                                                                                                                                                                                                                   clean  \n",
              "0                                                                                                                                                                                                                                                wenn du ein ex drama hast  schlag mich bitte nicht an    \n",
              "1    wenn die weltbank die menschen unterstützen will  muss sie äthiopien dazu drängen  tigraysiege zu beenden und ungehindeen humanitären zugang zu tigray zu ermöglichen  worldbankstopfundingtigraygenocide xxxusernamexxx xxxusernamexxx xxxusernamexxx xxxusernamexxx xxxusernamexxx xxxusernamexxx  \n",
              "2                                                                                                                                                                                                              amusan und duplantis  zwei athleten  die bei oregon  rekorde gebrochen haben   xxxlinkxxx  \n",
              "3                                                                                                                                                                                                                                                                                        fakt xxxlinkxxx  \n",
              "4                                                                                                                                            时间先生esquire   esquire china teilt ein teaser bild von wu lei auf dem kommenden cover der august ausgabe von esquire  吴磊   wulei   leowu   우飮書信   xxxlinkxxx  \n",
              "..                                                                                                                                                                                                                                                                                                   ...  \n",
              "973                                                                                                                                                                                                                                                                                          update  hu   \n",
              "974                                                                                                                                                                                                     xxxusernamexxx ich wünschte  ich spreche fließend spanisch und nicht chinesisch  wäre nützlicher  \n",
              "975                                                                                                                                                                                                             so sehr mir diese streiks den samstag erschweren  ich unterstütze die streiks trotzdem    \n",
              "976                                                                                                                                                                         xxxusernamexxx lamm und sogar ziege sind in den usa kein wichtiges fleisch  was im gegensatz zum rest der ganzen welt steht   \n",
              "977                                                                                                                                                                                                                                                                  xxxusernamexxx großaiger schachzug   \n",
              "\n",
              "[978 rows x 3 columns]"
            ],
            "text/html": [
              "\n",
              "  <div id=\"df-5c3f2e0b-8ccf-48e8-8740-274978b10c1f\">\n",
              "    <div class=\"colab-df-container\">\n",
              "      <div>\n",
              "<style scoped>\n",
              "    .dataframe tbody tr th:only-of-type {\n",
              "        vertical-align: middle;\n",
              "    }\n",
              "\n",
              "    .dataframe tbody tr th {\n",
              "        vertical-align: top;\n",
              "    }\n",
              "\n",
              "    .dataframe thead th {\n",
              "        text-align: right;\n",
              "    }\n",
              "</style>\n",
              "<table border=\"1\" class=\"dataframe\">\n",
              "  <thead>\n",
              "    <tr style=\"text-align: right;\">\n",
              "      <th></th>\n",
              "      <th>Sentiment</th>\n",
              "      <th>Tweet</th>\n",
              "      <th>clean</th>\n",
              "    </tr>\n",
              "  </thead>\n",
              "  <tbody>\n",
              "    <tr>\n",
              "      <th>0</th>\n",
              "      <td>negative</td>\n",
              "      <td>Wenn du ein Ex-Drama hast, schlag mich bitte nicht an ✌🏽</td>\n",
              "      <td>wenn du ein ex drama hast  schlag mich bitte nicht an</td>\n",
              "    </tr>\n",
              "    <tr>\n",
              "      <th>1</th>\n",
              "      <td>neutral</td>\n",
              "      <td>Wenn die Weltbank die Menschen unterstützen will, muss sie #Äthiopien dazu drängen, #TigraySiege zu beenden und ungehinderten humanitären Zugang zu #Tigray zu ermöglichen. #WorldBankStopFundingTigrayGenocide @SecBlinken @JosepBorrellF @WorldBank @UN_HRC @DavidMalpassWBG @IMFNews</td>\n",
              "      <td>wenn die weltbank die menschen unterstützen will  muss sie äthiopien dazu drängen  tigraysiege zu beenden und ungehindeen humanitären zugang zu tigray zu ermöglichen  worldbankstopfundingtigraygenocide xxxusernamexxx xxxusernamexxx xxxusernamexxx xxxusernamexxx xxxusernamexxx xxxusernamexxx</td>\n",
              "    </tr>\n",
              "    <tr>\n",
              "      <th>2</th>\n",
              "      <td>positive</td>\n",
              "      <td>Amusan und Duplantis, zwei Athleten, die bei Oregon 22 Rekorde gebrochen haben – https://t.co/z4ry6UPGgm</td>\n",
              "      <td>amusan und duplantis  zwei athleten  die bei oregon  rekorde gebrochen haben   xxxlinkxxx</td>\n",
              "    </tr>\n",
              "    <tr>\n",
              "      <th>3</th>\n",
              "      <td>neutral</td>\n",
              "      <td>FAKT https://t.co/0ZJlCLlytP</td>\n",
              "      <td>fakt xxxlinkxxx</td>\n",
              "    </tr>\n",
              "    <tr>\n",
              "      <th>4</th>\n",
              "      <td>neutral</td>\n",
              "      <td>220726 © 时间先生Esquire — ESQUIRE China teilt ein Teaser-Bild von Wu Lei auf dem kommenden Cover der August-Ausgabe von ESQUIRE! #吴磊 • #wulei • #leowu • #우飮書信 ࿐ https://t.co/lbm2HKv0Df</td>\n",
              "      <td>时间先生esquire   esquire china teilt ein teaser bild von wu lei auf dem kommenden cover der august ausgabe von esquire  吴磊   wulei   leowu   우飮書信   xxxlinkxxx</td>\n",
              "    </tr>\n",
              "    <tr>\n",
              "      <th>...</th>\n",
              "      <td>...</td>\n",
              "      <td>...</td>\n",
              "      <td>...</td>\n",
              "    </tr>\n",
              "    <tr>\n",
              "      <th>973</th>\n",
              "      <td>neutral</td>\n",
              "      <td>220727 🐹💬 UPDATE „hu“</td>\n",
              "      <td>update  hu</td>\n",
              "    </tr>\n",
              "    <tr>\n",
              "      <th>974</th>\n",
              "      <td>neutral</td>\n",
              "      <td>@goldkorn Ich wünschte, ich spreche fließend Spanisch und nicht Chinesisch. Wäre nützlicher</td>\n",
              "      <td>xxxusernamexxx ich wünschte  ich spreche fließend spanisch und nicht chinesisch  wäre nützlicher</td>\n",
              "    </tr>\n",
              "    <tr>\n",
              "      <th>975</th>\n",
              "      <td>neutral</td>\n",
              "      <td>So sehr mir diese Streiks den Samstag erschweren, ich unterstütze die Streiks trotzdem ✊🏼</td>\n",
              "      <td>so sehr mir diese streiks den samstag erschweren  ich unterstütze die streiks trotzdem</td>\n",
              "    </tr>\n",
              "    <tr>\n",
              "      <th>976</th>\n",
              "      <td>neutral</td>\n",
              "      <td>@FredUnbound Lamm und sogar Ziege sind in den USA kein wichtiges Fleisch, was im Gegensatz zum Rest der ganzen Welt steht.</td>\n",
              "      <td>xxxusernamexxx lamm und sogar ziege sind in den usa kein wichtiges fleisch  was im gegensatz zum rest der ganzen welt steht</td>\n",
              "    </tr>\n",
              "    <tr>\n",
              "      <th>977</th>\n",
              "      <td>positive</td>\n",
              "      <td>@AdamusMine Großartiger Schachzug.</td>\n",
              "      <td>xxxusernamexxx großaiger schachzug</td>\n",
              "    </tr>\n",
              "  </tbody>\n",
              "</table>\n",
              "<p>978 rows × 3 columns</p>\n",
              "</div>\n",
              "      <button class=\"colab-df-convert\" onclick=\"convertToInteractive('df-5c3f2e0b-8ccf-48e8-8740-274978b10c1f')\"\n",
              "              title=\"Convert this dataframe to an interactive table.\"\n",
              "              style=\"display:none;\">\n",
              "        \n",
              "  <svg xmlns=\"http://www.w3.org/2000/svg\" height=\"24px\"viewBox=\"0 0 24 24\"\n",
              "       width=\"24px\">\n",
              "    <path d=\"M0 0h24v24H0V0z\" fill=\"none\"/>\n",
              "    <path d=\"M18.56 5.44l.94 2.06.94-2.06 2.06-.94-2.06-.94-.94-2.06-.94 2.06-2.06.94zm-11 1L8.5 8.5l.94-2.06 2.06-.94-2.06-.94L8.5 2.5l-.94 2.06-2.06.94zm10 10l.94 2.06.94-2.06 2.06-.94-2.06-.94-.94-2.06-.94 2.06-2.06.94z\"/><path d=\"M17.41 7.96l-1.37-1.37c-.4-.4-.92-.59-1.43-.59-.52 0-1.04.2-1.43.59L10.3 9.45l-7.72 7.72c-.78.78-.78 2.05 0 2.83L4 21.41c.39.39.9.59 1.41.59.51 0 1.02-.2 1.41-.59l7.78-7.78 2.81-2.81c.8-.78.8-2.07 0-2.86zM5.41 20L4 18.59l7.72-7.72 1.47 1.35L5.41 20z\"/>\n",
              "  </svg>\n",
              "      </button>\n",
              "      \n",
              "  <style>\n",
              "    .colab-df-container {\n",
              "      display:flex;\n",
              "      flex-wrap:wrap;\n",
              "      gap: 12px;\n",
              "    }\n",
              "\n",
              "    .colab-df-convert {\n",
              "      background-color: #E8F0FE;\n",
              "      border: none;\n",
              "      border-radius: 50%;\n",
              "      cursor: pointer;\n",
              "      display: none;\n",
              "      fill: #1967D2;\n",
              "      height: 32px;\n",
              "      padding: 0 0 0 0;\n",
              "      width: 32px;\n",
              "    }\n",
              "\n",
              "    .colab-df-convert:hover {\n",
              "      background-color: #E2EBFA;\n",
              "      box-shadow: 0px 1px 2px rgba(60, 64, 67, 0.3), 0px 1px 3px 1px rgba(60, 64, 67, 0.15);\n",
              "      fill: #174EA6;\n",
              "    }\n",
              "\n",
              "    [theme=dark] .colab-df-convert {\n",
              "      background-color: #3B4455;\n",
              "      fill: #D2E3FC;\n",
              "    }\n",
              "\n",
              "    [theme=dark] .colab-df-convert:hover {\n",
              "      background-color: #434B5C;\n",
              "      box-shadow: 0px 1px 3px 1px rgba(0, 0, 0, 0.15);\n",
              "      filter: drop-shadow(0px 1px 2px rgba(0, 0, 0, 0.3));\n",
              "      fill: #FFFFFF;\n",
              "    }\n",
              "  </style>\n",
              "\n",
              "      <script>\n",
              "        const buttonEl =\n",
              "          document.querySelector('#df-5c3f2e0b-8ccf-48e8-8740-274978b10c1f button.colab-df-convert');\n",
              "        buttonEl.style.display =\n",
              "          google.colab.kernel.accessAllowed ? 'block' : 'none';\n",
              "\n",
              "        async function convertToInteractive(key) {\n",
              "          const element = document.querySelector('#df-5c3f2e0b-8ccf-48e8-8740-274978b10c1f');\n",
              "          const dataTable =\n",
              "            await google.colab.kernel.invokeFunction('convertToInteractive',\n",
              "                                                     [key], {});\n",
              "          if (!dataTable) return;\n",
              "\n",
              "          const docLinkHtml = 'Like what you see? Visit the ' +\n",
              "            '<a target=\"_blank\" href=https://colab.research.google.com/notebooks/data_table.ipynb>data table notebook</a>'\n",
              "            + ' to learn more about interactive tables.';\n",
              "          element.innerHTML = '';\n",
              "          dataTable['output_type'] = 'display_data';\n",
              "          await google.colab.output.renderOutput(dataTable, element);\n",
              "          const docLink = document.createElement('div');\n",
              "          docLink.innerHTML = docLinkHtml;\n",
              "          element.appendChild(docLink);\n",
              "        }\n",
              "      </script>\n",
              "    </div>\n",
              "  </div>\n",
              "  "
            ]
          },
          "metadata": {},
          "execution_count": 6
        }
      ]
    },
    {
      "cell_type": "markdown",
      "source": [
        "# DATA SHAPING FOR MODEL INPUT"
      ],
      "metadata": {
        "id": "6OzlQAXyU98R"
      }
    },
    {
      "cell_type": "markdown",
      "source": [
        "1. fit_on_texts Updates internal vocabulary based on a list of texts. This method creates the vocabulary index based on word frequency. So if you give it something like, \"The cat sat on the mat.\" It will create a dictionary s.t. word_index[\"the\"] = 1; word_index[\"cat\"] = 2 it is word -> index dictionary so every word gets a unique integer value. 0 is reserved for padding. So lower integer means more frequent word (often the first few are stop words because they appear a lot).\n",
        "2. texts_to_sequences Transforms each text in texts to a sequence of integers. So it basically takes each word in the text and replaces it with its corresponding integer value from the word_index dictionary. Nothing more, nothing less, certainly no magic involved.\n",
        "\n",
        "Why don't combine them? Because you almost always fit once and convert to sequences many times. You will fit on your training corpus once and use that exact same word_index dictionary at train / eval / testing / prediction time to convert actual text into sequences to feed them to the network. So it makes sense to keep those methods separate."
      ],
      "metadata": {
        "id": "Vh3lQ0WMqdQA"
      }
    },
    {
      "cell_type": "code",
      "source": [
        "# # The maximum number of words to be used. (most frequent)\n",
        "FREQUENT_WORDS_COUNT = 5500\n",
        "# # Max number of words for the padding -> max length tweet 280 chars ~60 words, also best results after experimenting\n",
        "SEQUENCE_LENGTH_COUNT =60\n",
        "# Specify the dimension of each token's vector.\n",
        "EMBEDDING_DIM = 100\n",
        "\n",
        "tokenizer = Tokenizer(num_words=FREQUENT_WORDS_COUNT, lower=True, oov_token=\"<OOV>\")\n",
        "# tokenizer = Tokenizer(num_words=MAX_NB_WORDS, lower=True)\n",
        "tokenizer.fit_on_texts(DAI[\"Tweet\"].values)\n",
        "word_index = tokenizer.word_index\n",
        "print('Found %s unique tokens.' % len(word_index))"
      ],
      "metadata": {
        "colab": {
          "base_uri": "https://localhost:8080/"
        },
        "id": "wmL6PPvuU89P",
        "outputId": "a3cc1be4-b93f-4dff-f0b0-c5c664ee7e27"
      },
      "execution_count": null,
      "outputs": [
        {
          "output_type": "stream",
          "name": "stdout",
          "text": [
            "Found 7112 unique tokens.\n"
          ]
        }
      ]
    },
    {
      "cell_type": "code",
      "source": [
        "X = tokenizer.texts_to_sequences(DAI[\"Tweet\"].values)\n",
        "X = pad_sequences(X, maxlen=SEQUENCE_LENGTH_COUNT)\n",
        "print('Shape of data tensor:', X.shape)"
      ],
      "metadata": {
        "colab": {
          "base_uri": "https://localhost:8080/"
        },
        "id": "EDEaok8AVC-I",
        "outputId": "60f76eb8-129b-4f79-f2d9-29c29561e4a0"
      },
      "execution_count": null,
      "outputs": [
        {
          "output_type": "stream",
          "name": "stdout",
          "text": [
            "Shape of data tensor: (1781, 60)\n"
          ]
        }
      ]
    },
    {
      "cell_type": "code",
      "source": [
        "shape =DAI['Sentiment'].values.shape\n",
        "print(shape)"
      ],
      "metadata": {
        "colab": {
          "base_uri": "https://localhost:8080/"
        },
        "id": "QfGscJ48VEHD",
        "outputId": "61aeaf03-60a8-4ac8-cfe5-c004b5eae14e"
      },
      "execution_count": null,
      "outputs": [
        {
          "output_type": "stream",
          "name": "stdout",
          "text": [
            "(1781,)\n"
          ]
        }
      ]
    },
    {
      "cell_type": "code",
      "source": [
        "Y = pd.get_dummies(DAI['Sentiment']).values\n",
        "print('Shape of label tensor:', Y.shape)"
      ],
      "metadata": {
        "colab": {
          "base_uri": "https://localhost:8080/"
        },
        "id": "YNGsMvWdVFRy",
        "outputId": "9850a16d-e851-4f23-a0f1-3199a1670fa7"
      },
      "execution_count": null,
      "outputs": [
        {
          "output_type": "stream",
          "name": "stdout",
          "text": [
            "Shape of label tensor: (1781, 3)\n"
          ]
        }
      ]
    },
    {
      "cell_type": "code",
      "source": [
        "X_train, X_test, Y_train, Y_test = train_test_split(X,Y, test_size = 0.25,random_state=0)\n",
        "print(X_train.shape,Y_train.shape)\n",
        "print(X_test.shape,Y_test.shape)"
      ],
      "metadata": {
        "colab": {
          "base_uri": "https://localhost:8080/"
        },
        "id": "jTZz4EDgVGrp",
        "outputId": "0050cad1-7e8d-4180-ff2b-0144583d09d4"
      },
      "execution_count": null,
      "outputs": [
        {
          "output_type": "stream",
          "name": "stdout",
          "text": [
            "(1335, 60) (1335, 3)\n",
            "(446, 60) (446, 3)\n"
          ]
        }
      ]
    },
    {
      "cell_type": "markdown",
      "source": [
        "# MODEL CREATION\n"
      ],
      "metadata": {
        "id": "Hq9-W81qVJpu"
      }
    },
    {
      "cell_type": "code",
      "source": [
        "GER_LSTM_OOV = Sequential()\n",
        "GER_LSTM_OOV.add(Embedding(FREQUENT_WORDS_COUNT, EMBEDDING_DIM, input_length=X.shape[1]))\n",
        "GER_LSTM_OOV.add(SpatialDropout1D(0.2))\n",
        "GER_LSTM_OOV.add(LSTM(100, dropout=0.2,recurrent_dropout=0.2))\n",
        "GER_LSTM_OOV.add(Dense(3, activation='softmax'))\n",
        "GER_LSTM_OOV.compile(loss='categorical_crossentropy', optimizer='adam', metrics=['accuracy'])\n",
        "print(GER_LSTM_OOV.summary())"
      ],
      "metadata": {
        "colab": {
          "base_uri": "https://localhost:8080/"
        },
        "id": "F_eZ2lmzVJNm",
        "outputId": "747a92aa-6a60-4446-8072-b2b8766272ca"
      },
      "execution_count": null,
      "outputs": [
        {
          "output_type": "stream",
          "name": "stderr",
          "text": [
            "WARNING:tensorflow:Layer lstm will not use cuDNN kernels since it doesn't meet the criteria. It will use a generic GPU kernel as fallback when running on GPU.\n"
          ]
        },
        {
          "output_type": "stream",
          "name": "stdout",
          "text": [
            "Model: \"sequential\"\n",
            "_________________________________________________________________\n",
            " Layer (type)                Output Shape              Param #   \n",
            "=================================================================\n",
            " embedding (Embedding)       (None, 60, 100)           550000    \n",
            "                                                                 \n",
            " spatial_dropout1d (SpatialD  (None, 60, 100)          0         \n",
            " ropout1D)                                                       \n",
            "                                                                 \n",
            " lstm (LSTM)                 (None, 100)               80400     \n",
            "                                                                 \n",
            " dense (Dense)               (None, 3)                 303       \n",
            "                                                                 \n",
            "=================================================================\n",
            "Total params: 630,703\n",
            "Trainable params: 630,703\n",
            "Non-trainable params: 0\n",
            "_________________________________________________________________\n",
            "None\n"
          ]
        }
      ]
    },
    {
      "cell_type": "code",
      "source": [
        "# tf.keras.backend.clear_session()\n",
        "\n",
        "epochs = 3\n",
        "batch_size = 32\n",
        "\n",
        "history = GER_LSTM_OOV.fit(X_train, Y_train, epochs=epochs, batch_size=batch_size,validation_split=0.1,callbacks=[EarlyStopping(monitor='val_loss', patience=3, min_delta=0.0001)])\n"
      ],
      "metadata": {
        "colab": {
          "base_uri": "https://localhost:8080/"
        },
        "id": "DjPsRgriVOEC",
        "outputId": "3f5a6126-ab20-4eaf-dc93-74509b73c145"
      },
      "execution_count": null,
      "outputs": [
        {
          "output_type": "stream",
          "name": "stdout",
          "text": [
            "Epoch 1/3\n",
            "38/38 [==============================] - 19s 379ms/step - loss: 0.9301 - accuracy: 0.6228 - val_loss: 0.8781 - val_accuracy: 0.6493\n",
            "Epoch 2/3\n",
            "38/38 [==============================] - 12s 306ms/step - loss: 0.8410 - accuracy: 0.6353 - val_loss: 0.8162 - val_accuracy: 0.6493\n",
            "Epoch 3/3\n",
            "38/38 [==============================] - 12s 306ms/step - loss: 0.6626 - accuracy: 0.7236 - val_loss: 0.8430 - val_accuracy: 0.6119\n"
          ]
        }
      ]
    },
    {
      "cell_type": "code",
      "source": [
        "accr = GER_LSTM_OOV.evaluate(X_test,Y_test)\n",
        "print('Test set\\n  Loss: {:0.3f}\\n  Accuracy: {:0.3f}'.format(accr[0],accr[1]))\n"
      ],
      "metadata": {
        "colab": {
          "base_uri": "https://localhost:8080/"
        },
        "id": "HOkRlAaZVMVW",
        "outputId": "f1028552-7618-4d0d-b898-68d70662828c"
      },
      "execution_count": null,
      "outputs": [
        {
          "output_type": "stream",
          "name": "stdout",
          "text": [
            "14/14 [==============================] - 0s 25ms/step - loss: 0.8442 - accuracy: 0.6480\n",
            "Test set\n",
            "  Loss: 0.844\n",
            "  Accuracy: 0.648\n"
          ]
        }
      ]
    },
    {
      "cell_type": "code",
      "source": [
        "plt.title('Loss')\n",
        "plt.plot(history.history['loss'], label='train')\n",
        "plt.plot(history.history['val_loss'], label='test')\n",
        "plt.legend()\n",
        "plt.show();"
      ],
      "metadata": {
        "colab": {
          "base_uri": "https://localhost:8080/",
          "height": 280
        },
        "id": "1TZp72xFVbaO",
        "outputId": "51f00388-cea0-4e9f-ccc7-0210627f6061"
      },
      "execution_count": null,
      "outputs": [
        {
          "output_type": "display_data",
          "data": {
            "text/plain": [
              "<Figure size 432x288 with 1 Axes>"
            ],
            "image/png": "[encoded data removed]"
          },
          "metadata": {
            "needs_background": "light"
          }
        }
      ]
    },
    {
      "cell_type": "code",
      "source": [
        "plt.title('Accuracy')\n",
        "plt.plot(history.history['accuracy'], label='train')\n",
        "plt.plot(history.history['val_accuracy'], label='test')\n",
        "plt.legend()\n",
        "plt.show();"
      ],
      "metadata": {
        "colab": {
          "base_uri": "https://localhost:8080/",
          "height": 280
        },
        "id": "JQeN-pZSVdKd",
        "outputId": "939c17ae-52e8-49f3-942c-c38b2eeb8bb5"
      },
      "execution_count": null,
      "outputs": [
        {
          "output_type": "display_data",
          "data": {
            "text/plain": [
              "<Figure size 432x288 with 1 Axes>"
            ],
            "image/png": "[encoded data removed]"
          },
          "metadata": {
            "needs_background": "light"
          }
        }
      ]
    },
    {
      "cell_type": "code",
      "source": [
        "# GER_LSTM_OOV.save('/content/drive/MyDrive/Education/University/Master/Classes/Thesis/Models/USE_GER_LSTM_OOV')"
      ],
      "metadata": {
        "id": "h1pVWz_EaUkt"
      },
      "execution_count": null,
      "outputs": []
    },
    {
      "cell_type": "markdown",
      "source": [
        "# ==== MODEL PERFORMANCE WITH LOADED MODEL ===="
      ],
      "metadata": {
        "id": "Twrk-aC5Zc2M"
      }
    },
    {
      "cell_type": "markdown",
      "source": [
        "# PREDICTION FUNCTION AND CLASSIFICATION REPORT\n",
        "\n",
        "The following are function which will be used in the end for sentiment prediction.\n",
        "\n",
        "1. FREQUENT_WORDS_COUNT = 5500\n",
        "2. SEQUENCE_LENGTH_COUNT = 60\n",
        "\n",
        "- *prepare_tokenizer_new_input()* : uses FREQUENT_WORDS_COUNT, SEQUENCE_LENGTH_COUNT, and a train dataset to create a tokenizer on which later test data will be fit for sequence and padding \n",
        "\n",
        "- get_results_tweet/clean(): takes as parameters the test dataframe with [\"Tweet'], a loaded model, and the tokenizer created with prepare_tokenizer_new_input(). \n",
        "\n",
        "\n",
        "\n"
      ],
      "metadata": {
        "id": "g15HjvB-VkFK"
      }
    },
    {
      "cell_type": "code",
      "source": [
        "# # The maximum number of words to be used. (most frequent)\n",
        "FREQUENT_WORDS_COUNT = 5500\n",
        "# # Max number of words for the padding -> max length tweet 280 chars ~60 words, also best results after experimenting\n",
        "SEQUENCE_LENGTH_COUNT =60\n",
        "\n",
        "\n",
        "\n",
        "def prepare_tokenizer_new_input(frequent, sequence_length, train_data):\n",
        "  tokenizer = Tokenizer(num_words=frequent, lower=True, oov_token=\"<OOV>\")\n",
        "  tokenizer.fit_on_texts(train_data[\"Tweet\"].values)\n",
        "\n",
        "  return tokenizer\n",
        "  # sequence = tokenizer.texts_to_sequences(train_data[\"Tweet\"].values)\n",
        "  # pads = pad_sequences(sequence, maxlen=sequence_length)\n",
        "\n",
        "\n",
        "# def get_results_tweet(dataframe, model):\n",
        "\n",
        "def get_results_tweet(dataframe, model, tokenizer):\n",
        "\n",
        "  # #converting dataframe.tweet to an array to be then convertied into an array of arrays so can iterate over each element and get the sentimetn\n",
        "  array_Tweet = dataframe['Tweet']\n",
        "\n",
        "  predictions_Tweet = []\n",
        "  for tweet in array_Tweet:\n",
        "    # print(tweet)\n",
        "    tweet = [tweet]\n",
        "    seq = tokenizer.texts_to_sequences(tweet)\n",
        "    padded = pad_sequences(seq, maxlen=SEQUENCE_LENGTH_COUNT)\n",
        "    pred = model.predict(padded)\n",
        "    # print(\"Pred: \", pred)\n",
        "    # print(\"argmax: \", (np.argmax(pred)))\n",
        "    string = \"\"\n",
        "    labels = ['negative', 'neutral', 'positive']\n",
        "    if(np.argmax(pred) == 0):\n",
        "      # print(\"negative\")\n",
        "      predictions_Tweet.append('negative')\n",
        "    elif(np.argmax(pred) == 1):\n",
        "      # print(\"neutral\")\n",
        "      predictions_Tweet.append('neutral')\n",
        "    elif (np.argmax(pred) == 2):\n",
        "      # print(\"positive\")\n",
        "      predictions_Tweet.append('positive')\n",
        "\n",
        "    # pred = set(predictions_Tweet)\n",
        "    # act = set(dataframe['Sentiment'][:100].values)\n",
        "\n",
        "  return classification_report(dataframe['Sentiment'].values, predictions_Tweet)\n",
        "                                 \n",
        "  # return result, act, pred\n",
        "\n",
        "\n",
        "  # return classification_report(dataframe['Sentiment'][:100].values, predictions_Tweet), act, pred\n",
        "\n",
        "\n",
        "def get_results_clean(dataframe, model, tokenizer):\n",
        "  # #comverting english.tweet to an array to be then convertied into an array of arrays so can iterate over each element and get the sentimetn\n",
        "  array_Clean= dataframe['clean']\n",
        "# array_germanClean = DAI['clean']\n",
        "\n",
        "  predictions_Clean = []\n",
        "  for tweet in array_Clean:\n",
        "    # print(tweet)\n",
        "    tweet = [tweet]\n",
        "    seq = tokenizer.texts_to_sequences(tweet)\n",
        "    padded = pad_sequences(seq, maxlen=SEQUENCE_LENGTH_COUNT)\n",
        "    pred = model.predict(padded)\n",
        "    # print(\"Pred: \", pred)\n",
        "    string = \"\"\n",
        "    labels = ['negative', 'neutral', 'positive']\n",
        "    if(np.argmax(pred) == 0):\n",
        "      # predictions_Clean(\"negative\")\n",
        "      predictions_Clean.append('negative')\n",
        "    elif(np.argmax(pred) == 1):\n",
        "      # print(\"neutral\")\n",
        "      predictions_Clean.append('neutral')\n",
        "    elif (np.argmax(pred) == 2):\n",
        "      # print(\"positive\")\n",
        "      predictions_Clean.append('positive')\n",
        "\n",
        "  return classification_report(dataframe['Sentiment'].values, predictions_Clean)\n"
      ],
      "metadata": {
        "id": "ulAbpKOAVn3l"
      },
      "execution_count": 4,
      "outputs": []
    },
    {
      "cell_type": "markdown",
      "source": [
        "# ================ MODEL LOADING =====================\n",
        "\n",
        "The following section uses a German LSTM model whose training can be seen in the above section. In this section, we load in that same model and create a tokenizer with the exact same parameters and training set as was used to train the LSTM model. The tokenizer is created with the function \"prepare_tokenzier_new_input()\". Its receives as parameters:\n",
        " 1. FREQUENT_WORDS_COUNT\n",
        " 2. SEQUENCE_LENGTH_COUNT\n",
        " 3. training set DAI.\n",
        "\n",
        "Then a function \"get_results_tweets()\" is called to perform the prediction. The function receives as parameters:\n",
        "1. test set (German)\n",
        "2. the model (LOADED_GER_LSTM_OOV)\n",
        "3. tokenizer (created by \"prepare_tokenzier_new_input()\")"
      ],
      "metadata": {
        "id": "2UiIa1ru4-Z0"
      }
    },
    {
      "cell_type": "code",
      "source": [
        "from tensorflow import keras\n",
        "import pandas as pd\n",
        "\n",
        "LOADED_GER_LSTM_OOV = keras.models.load_model('/content/drive/MyDrive/Education/University/Master/Classes/Thesis/Models/ReportModels/USE_GER_LSTM_OOV')\n",
        "\n"
      ],
      "metadata": {
        "id": "-BCLGxxpZZaE",
        "colab": {
          "base_uri": "https://localhost:8080/"
        },
        "outputId": "ac262859-e112-4e65-ede0-e56f3c715de3"
      },
      "execution_count": 8,
      "outputs": [
        {
          "output_type": "stream",
          "name": "stderr",
          "text": [
            "WARNING:tensorflow:Layer lstm will not use cuDNN kernels since it doesn't meet the criteria. It will use a generic GPU kernel as fallback when running on GPU.\n"
          ]
        }
      ]
    },
    {
      "cell_type": "code",
      "source": [
        "LOADED_GER_LSTM_OOV.summary()"
      ],
      "metadata": {
        "colab": {
          "base_uri": "https://localhost:8080/"
        },
        "id": "jVUQRwUOYAYz",
        "outputId": "4bdfe140-579d-4448-81d3-40983f240b50"
      },
      "execution_count": null,
      "outputs": [
        {
          "output_type": "stream",
          "name": "stdout",
          "text": [
            "Model: \"sequential\"\n",
            "_________________________________________________________________\n",
            " Layer (type)                Output Shape              Param #   \n",
            "=================================================================\n",
            " embedding (Embedding)       (None, 60, 100)           550000    \n",
            "                                                                 \n",
            " spatial_dropout1d (SpatialD  (None, 60, 100)          0         \n",
            " ropout1D)                                                       \n",
            "                                                                 \n",
            " lstm (LSTM)                 (None, 100)               80400     \n",
            "                                                                 \n",
            " dense (Dense)               (None, 3)                 303       \n",
            "                                                                 \n",
            "=================================================================\n",
            "Total params: 630,703\n",
            "Trainable params: 630,703\n",
            "Non-trainable params: 0\n",
            "_________________________________________________________________\n"
          ]
        }
      ]
    },
    {
      "cell_type": "code",
      "source": [
        "# The maximum number of words to be used. (most frequent)\n",
        "FREQUENT_WORDS_COUNT = 5500\n",
        "# Max number of words for the padding -> max length tweet 280 chars ~60 words, also best results after experimenting\n",
        "SEQUENCE_LENGTH_COUNT =60\n",
        "\n",
        "tokenizer = prepare_tokenizer_new_input(FREQUENT_WORDS_COUNT, SEQUENCE_LENGTH_COUNT, DAI)\n"
      ],
      "metadata": {
        "id": "onC8K4Z2-R21"
      },
      "execution_count": 9,
      "outputs": []
    },
    {
      "cell_type": "markdown",
      "source": [
        "# RESULTS\n"
      ],
      "metadata": {
        "id": "Iklfh305K1KZ"
      }
    },
    {
      "cell_type": "code",
      "source": [
        "print(get_results_tweet(German, LOADED_GER_LSTM_OOV, tokenizer))\n"
      ],
      "metadata": {
        "colab": {
          "base_uri": "https://localhost:8080/"
        },
        "id": "NFSJqGh2WI4n",
        "outputId": "934587c6-8fb3-4eab-9d07-d5da1c5e438b"
      },
      "execution_count": 10,
      "outputs": [
        {
          "output_type": "stream",
          "name": "stdout",
          "text": [
            "              precision    recall  f1-score   support\n",
            "\n",
            "    negative       0.29      0.14      0.18       132\n",
            "     neutral       0.80      0.87      0.84       735\n",
            "    positive       0.19      0.19      0.19        79\n",
            "\n",
            "    accuracy                           0.71       946\n",
            "   macro avg       0.42      0.40      0.40       946\n",
            "weighted avg       0.68      0.71      0.69       946\n",
            "\n"
          ]
        }
      ]
    },
    {
      "cell_type": "code",
      "source": [
        "print(get_results_tweet(German_translation, LOADED_GER_LSTM_OOV, tokenizer))\n"
      ],
      "metadata": {
        "colab": {
          "base_uri": "https://localhost:8080/"
        },
        "id": "esAq7UHXlhun",
        "outputId": "f8a49e8b-c1de-4ba9-ca53-2f315ab1de24"
      },
      "execution_count": 11,
      "outputs": [
        {
          "output_type": "stream",
          "name": "stdout",
          "text": [
            "              precision    recall  f1-score   support\n",
            "\n",
            "    negative       0.32      0.10      0.15       132\n",
            "     neutral       0.72      0.92      0.81       679\n",
            "    positive       0.40      0.17      0.24       167\n",
            "\n",
            "    accuracy                           0.68       978\n",
            "   macro avg       0.48      0.40      0.40       978\n",
            "weighted avg       0.61      0.68      0.62       978\n",
            "\n"
          ]
        }
      ]
    },
    {
      "cell_type": "code",
      "source": [
        "print(get_results_clean(German, LOADED_GER_LSTM_OOV, tokenizer))\n"
      ],
      "metadata": {
        "colab": {
          "base_uri": "https://localhost:8080/"
        },
        "id": "CIAqL87Gn52O",
        "outputId": "1506a8bd-40d9-4cf6-fa65-ad21758f68ea"
      },
      "execution_count": 12,
      "outputs": [
        {
          "output_type": "stream",
          "name": "stdout",
          "text": [
            "              precision    recall  f1-score   support\n",
            "\n",
            "    negative       0.24      0.13      0.17       132\n",
            "     neutral       0.80      0.83      0.82       735\n",
            "    positive       0.15      0.22      0.18        79\n",
            "\n",
            "    accuracy                           0.68       946\n",
            "   macro avg       0.40      0.39      0.39       946\n",
            "weighted avg       0.67      0.68      0.67       946\n",
            "\n"
          ]
        }
      ]
    },
    {
      "cell_type": "code",
      "source": [
        "print(get_results_clean(German_translation, LOADED_GER_LSTM_OOV, tokenizer))\n"
      ],
      "metadata": {
        "colab": {
          "base_uri": "https://localhost:8080/"
        },
        "id": "gply1snzn-0d",
        "outputId": "50d445ea-865b-44ca-fd02-e645bf2a5146"
      },
      "execution_count": 13,
      "outputs": [
        {
          "output_type": "stream",
          "name": "stdout",
          "text": [
            "              precision    recall  f1-score   support\n",
            "\n",
            "    negative       0.30      0.11      0.16       132\n",
            "     neutral       0.73      0.86      0.79       679\n",
            "    positive       0.35      0.29      0.32       167\n",
            "\n",
            "    accuracy                           0.66       978\n",
            "   macro avg       0.46      0.42      0.42       978\n",
            "weighted avg       0.61      0.66      0.62       978\n",
            "\n"
          ]
        }
      ]
    }
  ],
  "metadata": {
    "accelerator": "GPU",
    "colab": {
      "machine_shape": "hm",
      "name": "German LSTM model.ipynb",
      "provenance": [],
      "collapsed_sections": [],
      "mount_file_id": "1peci4kalpscEfjCxtQDwA1AlYmQhgqSV",
      "authorship_tag": "ABX9TyPXbLKNzumm+GOIRWET09wp",
      "include_colab_link": true
    },
    "gpuClass": "standard",
    "kernelspec": {
      "display_name": "Python 3",
      "name": "python3"
    },
    "language_info": {
      "name": "python"
    }
  },
  "nbformat": 4,
  "nbformat_minor": 0
}