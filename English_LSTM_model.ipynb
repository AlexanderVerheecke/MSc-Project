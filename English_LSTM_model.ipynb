{
  "nbformat": 4,
  "nbformat_minor": 0,
  "metadata": {
    "colab": {
      "name": "English LSTM model.ipynb",
      "provenance": [],
      "collapsed_sections": [],
      "machine_shape": "hm",
      "mount_file_id": "1kLfXP2Y6K8TAfETpPNLJ0d0JeHUvxZcC",
      "authorship_tag": "ABX9TyMA8/PhK6TAW0GHt8N1VMqV",
      "include_colab_link": true
    },
    "kernelspec": {
      "name": "python3",
      "display_name": "Python 3"
    },
    "language_info": {
      "name": "python"
    },
    "accelerator": "GPU",
    "gpuClass": "standard"
  },
  "cells": [
    {
      "cell_type": "markdown",
      "metadata": {
        "id": "view-in-github",
        "colab_type": "text"
      },
      "source": [
        "<a href=\"https://colab.research.google.com/github/AlexanderVerheecke/TwitterSentimentAnalysis/blob/main/English_LSTM_model.ipynb\" target=\"_parent\"><img src=\"https://colab.research.google.com/assets/colab-badge.svg\" alt=\"Open In Colab\"/></a>"
      ]
    },
    {
      "cell_type": "markdown",
      "source": [
        "How to run:\n",
        "The dataset used in this colab file is taken from my personal google Drive folder. I was unable to link the gitlab file to here. If the system is not connected to my Google Drive folder, the user will need to download the \n",
        "datasets themselves from : https://drive.google.com/drive/folders/1hxBtAXu-IfoajBtJIG_8q7lFcmcLWYJu?usp=sharing \n",
        "- SemEval data: SemEval 2017 -> SemEval2017_DataSet.csv\n",
        "- English: OwnTweets -> English -> latestEnglish.csv\n",
        "- English translation: OwnTweets -> latestGermanTranlatedToEnglish.csv\n",
        "\n",
        "\n",
        "Further, since traiing the model will take a long time, it was saved andnloaded in for easier performance checking. The model can be loaded from:\n",
        "https://drive.google.com/drive/folders/1Yj06VqsfPMaTlfnJEdInLKYXmd4c7nch?usp=sharing\n",
        "\n",
        "The model to load is USE_ENG_LSTM_OOV. The path to the model should be inserted under \"RESULTS TO COMPARE\" as:\n",
        "\n",
        "\n",
        "```\n",
        "LOADED_ENG_LSTM_OOV = tf.keras.models.load_model('USE_ENG_LSTM_OOV')\n",
        "```\n",
        "\n",
        "The dataset and model will need to be uploaded to Colabs files folder on left and the file path copied to the respective dataset reading.\n",
        "\n",
        "Once the dataset is imported correctly, the user will need to run the following cells in order to run the code.\n",
        "- cells under IMPORT\n",
        "- cells under DATA CLEANING FUNCTION\n",
        "- cells under DATA READING AND CLEANING\n",
        "- ALL the cells under MODEL PERFORMANCE WITH LOADED MODEL\n",
        "\n",
        "If the user wants to also train the model again, they will simply need to 'run all' under 'runtime'.\n"
      ],
      "metadata": {
        "id": "2W3zkN0ei8gF"
      }
    },
    {
      "cell_type": "markdown",
      "source": [
        "# ================ MODEL CREATION AND TRAINING =====================\n",
        "\n",
        "As training the model from scratch will take to long, for the we will be showing how it was trained and the loading in the same model to show performance as this is quicker\n"
      ],
      "metadata": {
        "id": "Dk7Sy0Fx4zhx"
      }
    },
    {
      "cell_type": "markdown",
      "source": [
        "# IMPORT"
      ],
      "metadata": {
        "id": "67Usshj-Ujpu"
      }
    },
    {
      "cell_type": "code",
      "execution_count": null,
      "metadata": {
        "id": "TsMtVkHQUdjE"
      },
      "outputs": [],
      "source": [
        "import numpy as np \n",
        "import pandas as pd\n",
        "import matplotlib.pyplot as plt\n",
        "# import seaborn as sns\n",
        "from keras.preprocessing.text import Tokenizer\n",
        "from keras.preprocessing.sequence import pad_sequences\n",
        "from keras.models import Sequential\n",
        "from keras.layers import Dense, Embedding, LSTM, SpatialDropout1D\n",
        "from sklearn.model_selection import train_test_split\n",
        "from keras.utils.np_utils import to_categorical\n",
        "from keras.callbacks import EarlyStopping\n",
        "from keras.layers import Dropout\n",
        "import re\n",
        "from nltk.corpus import stopwords\n",
        "from nltk import word_tokenize\n",
        "# STOPWORDS = set(stopwords.words('english'))\n",
        "# from bs4 import BeautifulSoup\n",
        "# import plotly.graph_objs as go\n",
        "# import tensorflow as tf\n",
        "# import cufflinks\n",
        "# from IPython.core.interactiveshell import InteractiveShell\n",
        "# import plotly.figure_factory as ff\n",
        "# InteractiveShell.ast_node_interactivity = 'all'\n",
        "# from plotly.offline import iplot\n",
        "# cufflinks.go_offline()\n",
        "# cufflinks.set_config_file(world_readable=True, theme='pearl')\n",
        "from sklearn.metrics import confusion_matrix, classification_report, accuracy_score"
      ]
    },
    {
      "cell_type": "code",
      "source": [
        "from google.colab import drive\n",
        "drive.mount('/content/drive')"
      ],
      "metadata": {
        "colab": {
          "base_uri": "https://localhost:8080/"
        },
        "id": "F3hsr2hYUnEi",
        "outputId": "e57a497f-1249-4650-ecbb-6af79c8adfb4"
      },
      "execution_count": null,
      "outputs": [
        {
          "output_type": "stream",
          "name": "stdout",
          "text": [
            "Drive already mounted at /content/drive; to attempt to forcibly remount, call drive.mount(\"/content/drive\", force_remount=True).\n"
          ]
        }
      ]
    },
    {
      "cell_type": "markdown",
      "source": [
        "# DATA CLEANING FUNCTION"
      ],
      "metadata": {
        "id": "TfQMkEAiUq5f"
      }
    },
    {
      "cell_type": "code",
      "source": [
        "import re\n",
        "import nltk\n",
        "from nltk.stem.cistem import Cistem\n",
        "from nltk.stem import *\n",
        "from nltk.stem.porter import *\n",
        "\n",
        "from nltk.corpus import stopwords\n",
        "nltk.download(\"stopwords\")\n",
        "from nltk.tokenize import TweetTokenizer \n",
        "\n",
        "tweet_tokenizer = TweetTokenizer()\n",
        "stemmer_ENG = PorterStemmer()\n",
        "stemmer_GER = Cistem()\n",
        "\n",
        "\n",
        "LINKS = \"http\\S+\"\n",
        "USERNAMES = \"@\\S+\"\n",
        "CONSECUTIVE = '[.]{2,}'\n",
        "NON_ALPHA = '(?:(?<=^)|(?<=\\s))(\\d+[.,]*)+(?=$|\\s)'\n",
        "HASHTAG = '#'\n",
        "RT = 'rt'\n",
        "SYMBOLS = '[^\\w& ]+'\n",
        "\n",
        "\n",
        "def tweet_to_words_GER(text):\n",
        "    text = text.lower() # Convert to lower case\n",
        "    text = re.sub(LINKS, \"XXXLINKXXX\", text) # Replace links with token\n",
        "    text = re.sub(USERNAMES, \"XXXUSERNAMEXXX\", text) # Replace mentions with token\n",
        "    text = re.sub(CONSECUTIVE, ' ... ', text) # Unify consecutive periods\n",
        "    text = re.sub(NON_ALPHA, \"\", text) # Remove all numbers not being part of alphanumeric word\n",
        "    text = re.sub(HASHTAG, \"\", text) # Remove '#' in front of hashtags\n",
        "    text = re.sub(RT, \"\", text) # Remove 'RT'\n",
        "    text = re.sub(SYMBOLS, \" \", text) # removes symbols\n",
        "    text = text.lower()\n",
        "\n",
        "    # words = tweet_tokenizer.tokenize(text)\n",
        "    # words = [w for w in words if w not in stopwords.words(\"german\")] # Remove stopwords\n",
        "    # words = [stemmer_GER.stem(w) for w in words] # Stem\n",
        "    \n",
        "    return text\n",
        "\n",
        "\n",
        "def tweet_to_words_ENG(text):\n",
        "    text = text.lower() # Convert to lower case\n",
        "    # text = expand(text) #expands contractions\n",
        "    text = re.sub(LINKS, \"XXXLINKXXX\", text) # Replace links with token\n",
        "    text = re.sub(USERNAMES, \"XXXUSERNAMEXXX\", text) # Replace mentions with token\n",
        "    text = re.sub(CONSECUTIVE, ' ... ', text) # Unify consecutive periods\n",
        "    text = re.sub(NON_ALPHA, \"\", text) # Remove all numbers not being part of alphanumeric word\n",
        "    text = re.sub(HASHTAG, \"\", text) # Remove '#' in front of hashtags\n",
        "    text = re.sub(RT, \"\", text) # Remove 'RT'\n",
        "    text = re.sub(SYMBOLS, \" \", text) # removes symbols\n",
        "    text = text.lower()\n",
        "    # words = tweet_tokenizer.tokenize(text)\n",
        "    # words = [w for w in words if w not in stopwords.words(\"english\")] # Remove stopwords\n",
        "    # words = [stemmer_ENG.stem(w) for w in words] # Stem\n",
        "    # words = \" \".join(words).lower()\n",
        "\n",
        "    return text"
      ],
      "metadata": {
        "colab": {
          "base_uri": "https://localhost:8080/"
        },
        "id": "U_uLABJ7Uu7l",
        "outputId": "53b2c81a-7b85-45d8-cf5c-34b8bc5d02e9"
      },
      "execution_count": null,
      "outputs": [
        {
          "output_type": "stream",
          "name": "stderr",
          "text": [
            "[nltk_data] Downloading package stopwords to /root/nltk_data...\n",
            "[nltk_data]   Unzipping corpora/stopwords.zip.\n"
          ]
        }
      ]
    },
    {
      "cell_type": "markdown",
      "source": [
        "# DATA READING AND CLEANING"
      ],
      "metadata": {
        "id": "_sNebpIVUzFx"
      }
    },
    {
      "cell_type": "code",
      "source": [
        "SemEval = pd.read_csv('/content/drive/MyDrive/Education/University/Master/Classes/Thesis/Data/SemEval2017/SemEval2017_DataSet.csv')\n",
        "SemEval = pd.DataFrame(SemEval)\n",
        "\n",
        "english = pd.read_csv('/content/drive/MyDrive/Education/University/Master/Classes/Thesis/Data/OwnTweets/English/latestEnglish.csv')\n",
        "english = pd.DataFrame(english)\n",
        "\n",
        "\n",
        "\n",
        "english_transaltion = pd.read_csv('/content/drive/MyDrive/Education/University/Master/Classes/Thesis/Data/OwnTweets/latestGermanTranlatedToEnglish.csv')\n",
        "english_transaltion = pd.DataFrame(english_transaltion)\n",
        "\n",
        "english = english[['Sentiment', 'Tweet']]\n",
        "SemEval = SemEval[['Sentiment', 'Tweet']]\n",
        "english_transaltion = english_transaltion[['Sentiment', 'Tweet']]\n",
        "pd.set_option('display.max_colwidth', None)\n",
        "\n",
        "SemEval['clean'] = SemEval[\"Tweet\"].apply(tweet_to_words_ENG)\n",
        "english['clean'] = english['Tweet'].apply(tweet_to_words_ENG)\n",
        "english_transaltion['clean'] = english_transaltion['Tweet'].apply(tweet_to_words_ENG)\n",
        "\n",
        "\n",
        "maps = {-1: \"negative\", 0:\"neutral\", 1:\"positive\"}\n",
        "SemEval['Sentiment'] = SemEval['Sentiment'].map(maps)\n",
        "english_transaltion['Sentiment'] = english_transaltion['Sentiment'].map(maps)\n",
        "english['Sentiment'] = english['Sentiment'].map(maps)\n",
        "\n"
      ],
      "metadata": {
        "id": "8o2xQpioU01L"
      },
      "execution_count": null,
      "outputs": []
    },
    {
      "cell_type": "code",
      "source": [
        "english_transaltion"
      ],
      "metadata": {
        "colab": {
          "base_uri": "https://localhost:8080/",
          "height": 934
        },
        "id": "UOVOy0rSCi5E",
        "outputId": "27345b5c-d250-4cd6-87e6-8676d222ddfe"
      },
      "execution_count": null,
      "outputs": [
        {
          "output_type": "execute_result",
          "data": {
            "text/plain": [
              "    Sentiment  \\\n",
              "0     neutral   \n",
              "1     neutral   \n",
              "2    negative   \n",
              "3     neutral   \n",
              "4     neutral   \n",
              "..        ...   \n",
              "941   neutral   \n",
              "942  negative   \n",
              "943   neutral   \n",
              "944   neutral   \n",
              "945   neutral   \n",
              "\n",
              "                                                                                                                                                                                                                                                                                                       Tweet  \\\n",
              "0                                                                                                                                                                                                                              @Marcel126610 Somehow yes. But...who wants it sitting around somewhere...🤷‍♀️   \n",
              "1                                                                                                                                                                                                                                                                   @PewPeeew aight nothing easier than that   \n",
              "2    @LibertyHannes @RikeWaldfee @MarcoBuschmann Uhhhhh really now &quot;I can kill if I want&quot; mimimi 😭 and I don&#39;t care what&#39;s up with your brats. Puh what I say to #FDPmachtsickundarm and #FDPunter5Percent. You are on the right track. 😂 Oh #dielinke is recovering in the first polls. 😂   \n",
              "3                Under #YourHaveYouselfExcluded, a lateral thinker said that it should be possible not to be vaccinated without any consequences. Well, what can I say: For nurses and doctors at the end of their strength, it was not without consequences when lateral thinkers refused to be vaccinated.   \n",
              "4                                                                                                                                                             And to be on the safe side again: this is about the labeling, not the test product itself. No influence on the result. https://t.co/Nne9nYSPgV   \n",
              "..                                                                                                                                                                                                                                                                                                       ...   \n",
              "941                                                                                                                                                                                                                            I would give it to Blauen with all my heart. Despite my love for #VfB #SVKSGF   \n",
              "942                                                                                Not that cross posts were ever guilty of any closeness to the reality that surrounds us all, but still: AGAINST WHICH CORONA MEASURES THEY ARE DEMONSTRATING TO THE FUCK THEY ARE ALL Abolished!! https://t.co/OSnrFkr2EW   \n",
              "943                                                                                                                                                                    @Tob_Sch The constant fear of getting infected. The socially and emotionally very challenging SuS. The lack of solidarity in society.   \n",
              "944                                                                                                                                                                                                                                                   @kopfkaputt0 For you I&#39;m going to ner zaziki sauce   \n",
              "945                                                                                                                                                                                                                                                                             are you dm or rossmann girls   \n",
              "\n",
              "                                                                                                                                                                                                                                                                                                   clean  \n",
              "0                                                                                                                                                                                                                            xxxusernamexxx somehow yes  but   who wants it sitting around somewhere      \n",
              "1                                                                                                                                                                                                                                                          xxxusernamexxx aight nothing easier than that  \n",
              "2    xxxusernamexxx xxxusernamexxx xxxusernamexxx uhhhhh really now &quot i can kill if i want&quot  mimimi   and i don&39 t care what&39 s up with your brats  puh what i say to fdpmachtsickundarm and fdpunter5percent  you are on the right track    oh dielinke is recovering in the first polls     \n",
              "3             under yourhaveyouselfexcluded  a lateral thinker said that it should be possible not to be vaccinated without any consequences  well  what can i say  for nurses and doctors at the end of their strength  it was not without consequences when lateral thinkers refused to be vaccinated   \n",
              "4                                                                                                                                                                      and to be on the safe side again  this is about the labeling  not the test product itself  no influence on the result  xxxlinkxxx  \n",
              "..                                                                                                                                                                                                                                                                                                   ...  \n",
              "941                                                                                                                                                                                                                            i would give it to blauen with all my hea  despite my love for vfb svksgf  \n",
              "942                                                                                          not that cross posts were ever guilty of any closeness to the reality that surrounds us all  but still  against which corona measures they are demonstrating to the fuck they are all abolished  xxxlinkxxx  \n",
              "943                                                                                                                                                          xxxusernamexxx the constant fear of getting infected  the socially and emotionally very challenging sus  the lack of solidarity in society   \n",
              "944                                                                                                                                                                                                                                              xxxusernamexxx for you i&39 m going to ner zaziki sauce  \n",
              "945                                                                                                                                                                                                                                                                         are you dm or rossmann girls  \n",
              "\n",
              "[946 rows x 3 columns]"
            ],
            "text/html": [
              "\n",
              "  <div id=\"df-3c45bd8a-48f4-4e42-b756-1faecf1947cb\">\n",
              "    <div class=\"colab-df-container\">\n",
              "      <div>\n",
              "<style scoped>\n",
              "    .dataframe tbody tr th:only-of-type {\n",
              "        vertical-align: middle;\n",
              "    }\n",
              "\n",
              "    .dataframe tbody tr th {\n",
              "        vertical-align: top;\n",
              "    }\n",
              "\n",
              "    .dataframe thead th {\n",
              "        text-align: right;\n",
              "    }\n",
              "</style>\n",
              "<table border=\"1\" class=\"dataframe\">\n",
              "  <thead>\n",
              "    <tr style=\"text-align: right;\">\n",
              "      <th></th>\n",
              "      <th>Sentiment</th>\n",
              "      <th>Tweet</th>\n",
              "      <th>clean</th>\n",
              "    </tr>\n",
              "  </thead>\n",
              "  <tbody>\n",
              "    <tr>\n",
              "      <th>0</th>\n",
              "      <td>neutral</td>\n",
              "      <td>@Marcel126610 Somehow yes. But...who wants it sitting around somewhere...🤷‍♀️</td>\n",
              "      <td>xxxusernamexxx somehow yes  but   who wants it sitting around somewhere</td>\n",
              "    </tr>\n",
              "    <tr>\n",
              "      <th>1</th>\n",
              "      <td>neutral</td>\n",
              "      <td>@PewPeeew aight nothing easier than that</td>\n",
              "      <td>xxxusernamexxx aight nothing easier than that</td>\n",
              "    </tr>\n",
              "    <tr>\n",
              "      <th>2</th>\n",
              "      <td>negative</td>\n",
              "      <td>@LibertyHannes @RikeWaldfee @MarcoBuschmann Uhhhhh really now &amp;quot;I can kill if I want&amp;quot; mimimi 😭 and I don&amp;#39;t care what&amp;#39;s up with your brats. Puh what I say to #FDPmachtsickundarm and #FDPunter5Percent. You are on the right track. 😂 Oh #dielinke is recovering in the first polls. 😂</td>\n",
              "      <td>xxxusernamexxx xxxusernamexxx xxxusernamexxx uhhhhh really now &amp;quot i can kill if i want&amp;quot  mimimi   and i don&amp;39 t care what&amp;39 s up with your brats  puh what i say to fdpmachtsickundarm and fdpunter5percent  you are on the right track    oh dielinke is recovering in the first polls</td>\n",
              "    </tr>\n",
              "    <tr>\n",
              "      <th>3</th>\n",
              "      <td>neutral</td>\n",
              "      <td>Under #YourHaveYouselfExcluded, a lateral thinker said that it should be possible not to be vaccinated without any consequences. Well, what can I say: For nurses and doctors at the end of their strength, it was not without consequences when lateral thinkers refused to be vaccinated.</td>\n",
              "      <td>under yourhaveyouselfexcluded  a lateral thinker said that it should be possible not to be vaccinated without any consequences  well  what can i say  for nurses and doctors at the end of their strength  it was not without consequences when lateral thinkers refused to be vaccinated</td>\n",
              "    </tr>\n",
              "    <tr>\n",
              "      <th>4</th>\n",
              "      <td>neutral</td>\n",
              "      <td>And to be on the safe side again: this is about the labeling, not the test product itself. No influence on the result. https://t.co/Nne9nYSPgV</td>\n",
              "      <td>and to be on the safe side again  this is about the labeling  not the test product itself  no influence on the result  xxxlinkxxx</td>\n",
              "    </tr>\n",
              "    <tr>\n",
              "      <th>...</th>\n",
              "      <td>...</td>\n",
              "      <td>...</td>\n",
              "      <td>...</td>\n",
              "    </tr>\n",
              "    <tr>\n",
              "      <th>941</th>\n",
              "      <td>neutral</td>\n",
              "      <td>I would give it to Blauen with all my heart. Despite my love for #VfB #SVKSGF</td>\n",
              "      <td>i would give it to blauen with all my hea  despite my love for vfb svksgf</td>\n",
              "    </tr>\n",
              "    <tr>\n",
              "      <th>942</th>\n",
              "      <td>negative</td>\n",
              "      <td>Not that cross posts were ever guilty of any closeness to the reality that surrounds us all, but still: AGAINST WHICH CORONA MEASURES THEY ARE DEMONSTRATING TO THE FUCK THEY ARE ALL Abolished!! https://t.co/OSnrFkr2EW</td>\n",
              "      <td>not that cross posts were ever guilty of any closeness to the reality that surrounds us all  but still  against which corona measures they are demonstrating to the fuck they are all abolished  xxxlinkxxx</td>\n",
              "    </tr>\n",
              "    <tr>\n",
              "      <th>943</th>\n",
              "      <td>neutral</td>\n",
              "      <td>@Tob_Sch The constant fear of getting infected. The socially and emotionally very challenging SuS. The lack of solidarity in society.</td>\n",
              "      <td>xxxusernamexxx the constant fear of getting infected  the socially and emotionally very challenging sus  the lack of solidarity in society</td>\n",
              "    </tr>\n",
              "    <tr>\n",
              "      <th>944</th>\n",
              "      <td>neutral</td>\n",
              "      <td>@kopfkaputt0 For you I&amp;#39;m going to ner zaziki sauce</td>\n",
              "      <td>xxxusernamexxx for you i&amp;39 m going to ner zaziki sauce</td>\n",
              "    </tr>\n",
              "    <tr>\n",
              "      <th>945</th>\n",
              "      <td>neutral</td>\n",
              "      <td>are you dm or rossmann girls</td>\n",
              "      <td>are you dm or rossmann girls</td>\n",
              "    </tr>\n",
              "  </tbody>\n",
              "</table>\n",
              "<p>946 rows × 3 columns</p>\n",
              "</div>\n",
              "      <button class=\"colab-df-convert\" onclick=\"convertToInteractive('df-3c45bd8a-48f4-4e42-b756-1faecf1947cb')\"\n",
              "              title=\"Convert this dataframe to an interactive table.\"\n",
              "              style=\"display:none;\">\n",
              "        \n",
              "  <svg xmlns=\"http://www.w3.org/2000/svg\" height=\"24px\"viewBox=\"0 0 24 24\"\n",
              "       width=\"24px\">\n",
              "    <path d=\"M0 0h24v24H0V0z\" fill=\"none\"/>\n",
              "    <path d=\"M18.56 5.44l.94 2.06.94-2.06 2.06-.94-2.06-.94-.94-2.06-.94 2.06-2.06.94zm-11 1L8.5 8.5l.94-2.06 2.06-.94-2.06-.94L8.5 2.5l-.94 2.06-2.06.94zm10 10l.94 2.06.94-2.06 2.06-.94-2.06-.94-.94-2.06-.94 2.06-2.06.94z\"/><path d=\"M17.41 7.96l-1.37-1.37c-.4-.4-.92-.59-1.43-.59-.52 0-1.04.2-1.43.59L10.3 9.45l-7.72 7.72c-.78.78-.78 2.05 0 2.83L4 21.41c.39.39.9.59 1.41.59.51 0 1.02-.2 1.41-.59l7.78-7.78 2.81-2.81c.8-.78.8-2.07 0-2.86zM5.41 20L4 18.59l7.72-7.72 1.47 1.35L5.41 20z\"/>\n",
              "  </svg>\n",
              "      </button>\n",
              "      \n",
              "  <style>\n",
              "    .colab-df-container {\n",
              "      display:flex;\n",
              "      flex-wrap:wrap;\n",
              "      gap: 12px;\n",
              "    }\n",
              "\n",
              "    .colab-df-convert {\n",
              "      background-color: #E8F0FE;\n",
              "      border: none;\n",
              "      border-radius: 50%;\n",
              "      cursor: pointer;\n",
              "      display: none;\n",
              "      fill: #1967D2;\n",
              "      height: 32px;\n",
              "      padding: 0 0 0 0;\n",
              "      width: 32px;\n",
              "    }\n",
              "\n",
              "    .colab-df-convert:hover {\n",
              "      background-color: #E2EBFA;\n",
              "      box-shadow: 0px 1px 2px rgba(60, 64, 67, 0.3), 0px 1px 3px 1px rgba(60, 64, 67, 0.15);\n",
              "      fill: #174EA6;\n",
              "    }\n",
              "\n",
              "    [theme=dark] .colab-df-convert {\n",
              "      background-color: #3B4455;\n",
              "      fill: #D2E3FC;\n",
              "    }\n",
              "\n",
              "    [theme=dark] .colab-df-convert:hover {\n",
              "      background-color: #434B5C;\n",
              "      box-shadow: 0px 1px 3px 1px rgba(0, 0, 0, 0.15);\n",
              "      filter: drop-shadow(0px 1px 2px rgba(0, 0, 0, 0.3));\n",
              "      fill: #FFFFFF;\n",
              "    }\n",
              "  </style>\n",
              "\n",
              "      <script>\n",
              "        const buttonEl =\n",
              "          document.querySelector('#df-3c45bd8a-48f4-4e42-b756-1faecf1947cb button.colab-df-convert');\n",
              "        buttonEl.style.display =\n",
              "          google.colab.kernel.accessAllowed ? 'block' : 'none';\n",
              "\n",
              "        async function convertToInteractive(key) {\n",
              "          const element = document.querySelector('#df-3c45bd8a-48f4-4e42-b756-1faecf1947cb');\n",
              "          const dataTable =\n",
              "            await google.colab.kernel.invokeFunction('convertToInteractive',\n",
              "                                                     [key], {});\n",
              "          if (!dataTable) return;\n",
              "\n",
              "          const docLinkHtml = 'Like what you see? Visit the ' +\n",
              "            '<a target=\"_blank\" href=https://colab.research.google.com/notebooks/data_table.ipynb>data table notebook</a>'\n",
              "            + ' to learn more about interactive tables.';\n",
              "          element.innerHTML = '';\n",
              "          dataTable['output_type'] = 'display_data';\n",
              "          await google.colab.output.renderOutput(dataTable, element);\n",
              "          const docLink = document.createElement('div');\n",
              "          docLink.innerHTML = docLinkHtml;\n",
              "          element.appendChild(docLink);\n",
              "        }\n",
              "      </script>\n",
              "    </div>\n",
              "  </div>\n",
              "  "
            ]
          },
          "metadata": {},
          "execution_count": 38
        }
      ]
    },
    {
      "cell_type": "markdown",
      "source": [
        "# DATA SHAPING FOR MODEL INPUT"
      ],
      "metadata": {
        "id": "6OzlQAXyU98R"
      }
    },
    {
      "cell_type": "markdown",
      "source": [
        "1. fit_on_texts Updates internal vocabulary based on a list of texts. This method creates the vocabulary index based on word frequency. So if you give it something like, \"The cat sat on the mat.\" It will create a dictionary s.t. word_index[\"the\"] = 1; word_index[\"cat\"] = 2 it is word -> index dictionary so every word gets a unique integer value. 0 is reserved for padding. So lower integer means more frequent word (often the first few are stop words because they appear a lot).\n",
        "2. texts_to_sequences Transforms each text in texts to a sequence of integers. So it basically takes each word in the text and replaces it with its corresponding integer value from the word_index dictionary. Nothing more, nothing less, certainly no magic involved.\n",
        "\n",
        "Why don't combine them? Because you almost always fit once and convert to sequences many times. You will fit on your training corpus once and use that exact same word_index dictionary at train / eval / testing / prediction time to convert actual text into sequences to feed them to the network. So it makes sense to keep those methods separate."
      ],
      "metadata": {
        "id": "Vh3lQ0WMqdQA"
      }
    },
    {
      "cell_type": "code",
      "source": [
        "# # The maximum number of words to be used. (most frequent)\n",
        "FREQUENT_WORDS_COUNT = 20000\n",
        "# # Max number of words for the padding -> max length tweet 280 chars ~60 words, also best results after experimenting\n",
        "SEQUENCE_LENGTH_COUNT =60\n",
        "# Specify the dimension of each token's vector.\n",
        "EMBEDDING_DIM = 100\n",
        "\n",
        "tokenizer = Tokenizer(num_words=FREQUENT_WORDS_COUNT, lower=True, oov_token=\"<OOV>\")\n",
        "# tokenizer = Tokenizer(num_words=MAX_NB_WORDS, lower=True)\n",
        "tokenizer.fit_on_texts(SemEval[\"Tweet\"].values)\n",
        "word_index = tokenizer.word_index\n",
        "print('Found %s unique tokens.' % len(word_index))"
      ],
      "metadata": {
        "colab": {
          "base_uri": "https://localhost:8080/"
        },
        "id": "wmL6PPvuU89P",
        "outputId": "87cb075c-a267-4000-f422-7298aeb51dcb"
      },
      "execution_count": null,
      "outputs": [
        {
          "output_type": "stream",
          "name": "stdout",
          "text": [
            "Found 22988 unique tokens.\n"
          ]
        }
      ]
    },
    {
      "cell_type": "code",
      "source": [
        "X = tokenizer.texts_to_sequences(SemEval[\"Tweet\"].values)\n",
        "X = pad_sequences(X, maxlen=SEQUENCE_LENGTH_COUNT)\n",
        "print('Shape of data tensor:', X.shape)"
      ],
      "metadata": {
        "colab": {
          "base_uri": "https://localhost:8080/"
        },
        "id": "EDEaok8AVC-I",
        "outputId": "f8d2b394-b7c1-4201-fd91-b1b4f5c670d9"
      },
      "execution_count": null,
      "outputs": [
        {
          "output_type": "stream",
          "name": "stdout",
          "text": [
            "Shape of data tensor: (12284, 60)\n"
          ]
        }
      ]
    },
    {
      "cell_type": "code",
      "source": [
        "shape =SemEval['Sentiment'].values.shape\n",
        "print(shape)"
      ],
      "metadata": {
        "colab": {
          "base_uri": "https://localhost:8080/"
        },
        "id": "QfGscJ48VEHD",
        "outputId": "43ad0aa9-918a-40f2-db7b-1e50f70f727d"
      },
      "execution_count": null,
      "outputs": [
        {
          "output_type": "stream",
          "name": "stdout",
          "text": [
            "(12284,)\n"
          ]
        }
      ]
    },
    {
      "cell_type": "code",
      "source": [
        "Y = pd.get_dummies(SemEval['Sentiment']).values\n",
        "print('Shape of label tensor:', Y.shape)"
      ],
      "metadata": {
        "colab": {
          "base_uri": "https://localhost:8080/"
        },
        "id": "YNGsMvWdVFRy",
        "outputId": "a827eace-a8ed-491e-b657-6c1b839f99ff"
      },
      "execution_count": null,
      "outputs": [
        {
          "output_type": "stream",
          "name": "stdout",
          "text": [
            "Shape of label tensor: (12284, 3)\n"
          ]
        }
      ]
    },
    {
      "cell_type": "code",
      "source": [
        "X_train, X_test, Y_train, Y_test = train_test_split(X,Y, test_size = 0.10)\n",
        "print(X_train.shape,Y_train.shape)\n",
        "print(X_test.shape,Y_test.shape)"
      ],
      "metadata": {
        "colab": {
          "base_uri": "https://localhost:8080/"
        },
        "id": "jTZz4EDgVGrp",
        "outputId": "53d6e8f0-6b16-4d14-b21a-8093f13efe69"
      },
      "execution_count": null,
      "outputs": [
        {
          "output_type": "stream",
          "name": "stdout",
          "text": [
            "(11055, 60) (11055, 3)\n",
            "(1229, 60) (1229, 3)\n"
          ]
        }
      ]
    },
    {
      "cell_type": "markdown",
      "source": [
        "# MODEL CREATION\n"
      ],
      "metadata": {
        "id": "Hq9-W81qVJpu"
      }
    },
    {
      "cell_type": "code",
      "source": [
        "# X.shape[1]"
      ],
      "metadata": {
        "id": "oR_CweDvZSP7"
      },
      "execution_count": null,
      "outputs": []
    },
    {
      "cell_type": "code",
      "source": [
        "ENG_LSTM_OOV = Sequential()\n",
        "ENG_LSTM_OOV.add(Embedding(FREQUENT_WORDS_COUNT, EMBEDDING_DIM, input_length=X.shape[1]))\n",
        "ENG_LSTM_OOV.add(SpatialDropout1D(0.2))\n",
        "ENG_LSTM_OOV.add(LSTM(170, dropout=0.2))\n",
        "# ENG_LSTM_OOV.add(Bidirectional(LSTM(100, dropout=0.2)))\n",
        "ENG_LSTM_OOV.add(Dense(3, activation='softmax'))\n",
        "ENG_LSTM_OOV.compile(loss='categorical_crossentropy', optimizer='adam', metrics=['accuracy'])\n",
        "print(ENG_LSTM_OOV.summary())"
      ],
      "metadata": {
        "colab": {
          "base_uri": "https://localhost:8080/"
        },
        "id": "F_eZ2lmzVJNm",
        "outputId": "7e7c6221-fd0f-4d27-f834-1d16bf391785"
      },
      "execution_count": null,
      "outputs": [
        {
          "output_type": "stream",
          "name": "stdout",
          "text": [
            "Model: \"sequential\"\n",
            "_________________________________________________________________\n",
            " Layer (type)                Output Shape              Param #   \n",
            "=================================================================\n",
            " embedding (Embedding)       (None, 60, 100)           2000000   \n",
            "                                                                 \n",
            " spatial_dropout1d (SpatialD  (None, 60, 100)          0         \n",
            " ropout1D)                                                       \n",
            "                                                                 \n",
            " lstm (LSTM)                 (None, 170)               184280    \n",
            "                                                                 \n",
            " dense (Dense)               (None, 3)                 513       \n",
            "                                                                 \n",
            "=================================================================\n",
            "Total params: 2,184,793\n",
            "Trainable params: 2,184,793\n",
            "Non-trainable params: 0\n",
            "_________________________________________________________________\n",
            "None\n"
          ]
        }
      ]
    },
    {
      "cell_type": "code",
      "source": [
        "# tf.keras.backend.clear_session()\n",
        "\n",
        "epochs = 3\n",
        "batch_size = 64\n",
        "\n",
        "history = ENG_LSTM_OOV.fit(X_train, Y_train, epochs=epochs, batch_size=batch_size,validation_split=0.1,callbacks=[EarlyStopping(monitor='val_loss', patience=3, min_delta=0.0001)])\n"
      ],
      "metadata": {
        "colab": {
          "base_uri": "https://localhost:8080/"
        },
        "id": "DjPsRgriVOEC",
        "outputId": "e2f21d3e-7ca5-4ef8-db4d-e8ab064695b5"
      },
      "execution_count": null,
      "outputs": [
        {
          "output_type": "stream",
          "name": "stdout",
          "text": [
            "Epoch 1/3\n",
            "156/156 [==============================] - 5s 16ms/step - loss: 0.9332 - accuracy: 0.5487 - val_loss: 0.8374 - val_accuracy: 0.5859\n",
            "Epoch 2/3\n",
            "156/156 [==============================] - 2s 10ms/step - loss: 0.6341 - accuracy: 0.7245 - val_loss: 0.7866 - val_accuracy: 0.6374\n",
            "Epoch 3/3\n",
            "156/156 [==============================] - 1s 9ms/step - loss: 0.3915 - accuracy: 0.8479 - val_loss: 0.9450 - val_accuracy: 0.6157\n"
          ]
        }
      ]
    },
    {
      "cell_type": "code",
      "source": [
        "accr = ENG_LSTM_OOV.evaluate(X_test,Y_test)\n",
        "print('Test set\\n  Loss: {:0.3f}\\n  Accuracy: {:0.3f}'.format(accr[0],accr[1]))\n"
      ],
      "metadata": {
        "colab": {
          "base_uri": "https://localhost:8080/"
        },
        "id": "HOkRlAaZVMVW",
        "outputId": "a802bcc6-e7fd-44ed-a137-bc4a2a520c8f"
      },
      "execution_count": null,
      "outputs": [
        {
          "output_type": "stream",
          "name": "stdout",
          "text": [
            "39/39 [==============================] - 0s 4ms/step - loss: 0.9315 - accuracy: 0.6233\n",
            "Test set\n",
            "  Loss: 0.931\n",
            "  Accuracy: 0.623\n"
          ]
        }
      ]
    },
    {
      "cell_type": "code",
      "source": [
        "plt.title('Loss')\n",
        "plt.plot(history.history['loss'], label='train')\n",
        "plt.plot(history.history['val_loss'], label='test')\n",
        "plt.legend()\n",
        "plt.show();"
      ],
      "metadata": {
        "colab": {
          "base_uri": "https://localhost:8080/",
          "height": 280
        },
        "id": "1TZp72xFVbaO",
        "outputId": "809a87cd-2812-44fe-8348-62c351b93578"
      },
      "execution_count": null,
      "outputs": [
        {
          "output_type": "display_data",
          "data": {
            "text/plain": [
              "<Figure size 432x288 with 1 Axes>"
            ],
            "image/png": "[encoded data removed]"
          },
          "metadata": {
            "needs_background": "light"
          }
        }
      ]
    },
    {
      "cell_type": "code",
      "source": [
        "plt.title('Accuracy')\n",
        "plt.plot(history.history['accuracy'], label='train')\n",
        "plt.plot(history.history['val_accuracy'], label='test')\n",
        "plt.legend()\n",
        "plt.show();"
      ],
      "metadata": {
        "colab": {
          "base_uri": "https://localhost:8080/",
          "height": 280
        },
        "id": "JQeN-pZSVdKd",
        "outputId": "387ea3ca-dd05-4496-9010-8d95ad90f835"
      },
      "execution_count": null,
      "outputs": [
        {
          "output_type": "display_data",
          "data": {
            "text/plain": [
              "<Figure size 432x288 with 1 Axes>"
            ],
            "image/png": "[encoded data removed]"
          },
          "metadata": {
            "needs_background": "light"
          }
        }
      ]
    },
    {
      "cell_type": "code",
      "source": [
        "# ENG_LSTM_OOV.save('/content/drive/MyDrive/Education/University/Master/Classes/Thesis/Models/ReportModels/USE_ENG_LSTM_OOV')"
      ],
      "metadata": {
        "id": "x55FkfA_WuTT"
      },
      "execution_count": null,
      "outputs": []
    },
    {
      "cell_type": "markdown",
      "source": [
        "# ==== MODEL PERFORMANCE WITH LOADED MODEL ===="
      ],
      "metadata": {
        "id": "R49mEP3nWWjw"
      }
    },
    {
      "cell_type": "markdown",
      "source": [
        "# PREDICTION FUNCTION AND CLASSIFICATION REPORT\n"
      ],
      "metadata": {
        "id": "g15HjvB-VkFK"
      }
    },
    {
      "cell_type": "code",
      "source": [
        "# # The maximum number of words to be used. (most frequent)\n",
        "FREQUENT_WORDS_COUNT = 20000\n",
        "# # Max number of words for the padding -> max length tweet 280 chars ~60 words, also best results after experimenting\n",
        "SEQUENCE_LENGTH_COUNT =60\n",
        "\n",
        "\n",
        "\n",
        "def prepare_tokenizer_new_input(frequent, sequence_length, train_data):\n",
        "  tokenizer = Tokenizer(num_words=frequent, lower=True, oov_token=\"<OOV>\")\n",
        "  tokenizer.fit_on_texts(train_data[\"Tweet\"].values)\n",
        "\n",
        "  return tokenizer\n",
        "  # sequence = tokenizer.texts_to_sequences(train_data[\"Tweet\"].values)\n",
        "  # pads = pad_sequences(sequence, maxlen=sequence_length)\n",
        "\n",
        "\n",
        "# def get_results_tweet(dataframe, model):\n",
        "\n",
        "def get_results_tweet(dataframe, model, tokenizer):\n",
        "\n",
        "  # #converting dataframe.tweet to an array to be then convertied into an array of arrays so can iterate over each element and get the sentimetn\n",
        "  array_Tweet = dataframe['Tweet']\n",
        "\n",
        "  predictions_Tweet = []\n",
        "  for tweet in array_Tweet:\n",
        "    # print(tweet)\n",
        "    tweet = [tweet]\n",
        "    seq = tokenizer.texts_to_sequences(tweet)\n",
        "    padded = pad_sequences(seq, maxlen=SEQUENCE_LENGTH_COUNT)\n",
        "    pred = model.predict(padded)\n",
        "    # print(\"Pred: \", pred)\n",
        "    # print(\"argmax: \", (np.argmax(pred)))\n",
        "    string = \"\"\n",
        "    labels = ['negative', 'neutral', 'positive']\n",
        "    if(np.argmax(pred) == 0):\n",
        "      # print(\"negative\")\n",
        "      predictions_Tweet.append('negative')\n",
        "    elif(np.argmax(pred) == 1):\n",
        "      # print(\"neutral\")\n",
        "      predictions_Tweet.append('neutral')\n",
        "    elif (np.argmax(pred) == 2):\n",
        "      # print(\"positive\")\n",
        "      predictions_Tweet.append('positive')\n",
        "\n",
        "    # pred = set(predictions_Tweet)\n",
        "    # act = set(dataframe['Sentiment'][:100].values)\n",
        "\n",
        "  return classification_report(dataframe['Sentiment'].values, predictions_Tweet)\n",
        "                                 \n",
        "  # return result, act, pred\n",
        "\n",
        "\n",
        "  # return classification_report(dataframe['Sentiment'][:100].values, predictions_Tweet), act, pred\n",
        "\n",
        "\n",
        "def get_results_clean(dataframe, model, tokenizer):\n",
        "  # #comverting english.tweet to an array to be then convertied into an array of arrays so can iterate over each element and get the sentimetn\n",
        "  array_Clean= dataframe['clean']\n",
        "# array_germanClean = DAI['clean']\n",
        "\n",
        "  predictions_Clean = []\n",
        "  for tweet in array_Clean:\n",
        "    # print(tweet)\n",
        "    tweet = [tweet]\n",
        "    seq = tokenizer.texts_to_sequences(tweet)\n",
        "    padded = pad_sequences(seq, maxlen=SEQUENCE_LENGTH_COUNT)\n",
        "    pred = model.predict(padded)\n",
        "    # print(\"Pred: \", pred)\n",
        "    string = \"\"\n",
        "    labels = ['negative', 'neutral', 'positive']\n",
        "    if(np.argmax(pred) == 0):\n",
        "      # predictions_Clean(\"negative\")\n",
        "      predictions_Clean.append('negative')\n",
        "    elif(np.argmax(pred) == 1):\n",
        "      # print(\"neutral\")\n",
        "      predictions_Clean.append('neutral')\n",
        "    elif (np.argmax(pred) == 2):\n",
        "      # print(\"positive\")\n",
        "      predictions_Clean.append('positive')\n",
        "\n",
        "  return classification_report(dataframe['Sentiment'].values, predictions_Clean)\n"
      ],
      "metadata": {
        "id": "ulAbpKOAVn3l"
      },
      "execution_count": null,
      "outputs": []
    },
    {
      "cell_type": "markdown",
      "source": [
        "# ================ MODEL LOADING =====================\n",
        "\n",
        "The following section uses an English BiLSTM model whose training can be seen in the above section. In this section, we load in that same model and create a tokenizer with the exact same parameters and training set as was used to train the BiLSTM model. The tokenizer is created with the function \"prepare_tokenzier_new_input()\". Its receives as parameters:\n",
        " 1. FREQUENT_WORDS_COUNT\n",
        " 2. SEQUENCE_LENGTH_COUNT\n",
        " 3. training set SemEval.\n",
        "\n",
        "Then a function \"get_results_tweets()\" is called to perform the prediction. The function receives as parameters:\n",
        "1. test set (english)\n",
        "2. the model (LOADED_ENG_LSTM_OOV)\n",
        "3. tokenizer (created by \"prepare_tokenzier_new_input()\")"
      ],
      "metadata": {
        "id": "2UiIa1ru4-Z0"
      }
    },
    {
      "cell_type": "code",
      "source": [
        "from tensorflow import keras\n",
        "LOADED_ENG_LSTM_OOV = keras.models.load_model('/content/drive/MyDrive/Education/University/Master/Classes/Thesis/Models/ReportModels/USE_ENG_LSTM_OOV')\n"
      ],
      "metadata": {
        "id": "-BCLGxxpZZaE"
      },
      "execution_count": null,
      "outputs": []
    },
    {
      "cell_type": "code",
      "source": [
        "# The maximum number of words to be used. (most frequent)\n",
        "FREQUENT_WORDS_COUNT = 20000\n",
        "# Max number of words for the padding -> max length tweet 280 chars ~60 words, also best results after experimenting\n",
        "SEQUENCE_LENGTH_COUNT =60\n",
        "\n",
        "tokenizer = prepare_tokenizer_new_input(FREQUENT_WORDS_COUNT, SEQUENCE_LENGTH_COUNT, SemEval)\n"
      ],
      "metadata": {
        "id": "onC8K4Z2-R21"
      },
      "execution_count": null,
      "outputs": []
    },
    {
      "cell_type": "markdown",
      "source": [
        "# RESULTS\n"
      ],
      "metadata": {
        "id": "Iklfh305K1KZ"
      }
    },
    {
      "cell_type": "code",
      "source": [
        "print(get_results_tweet(english_transaltion, LOADED_ENG_LSTM_OOV, tokenizer))"
      ],
      "metadata": {
        "colab": {
          "base_uri": "https://localhost:8080/"
        },
        "id": "27ceR8EEEU9g",
        "outputId": "66dab9d3-16ac-49c6-a295-cbc71f25ea5b"
      },
      "execution_count": null,
      "outputs": [
        {
          "output_type": "stream",
          "name": "stdout",
          "text": [
            "              precision    recall  f1-score   support\n",
            "\n",
            "    negative       0.39      0.54      0.45       132\n",
            "     neutral       0.87      0.79      0.83       735\n",
            "    positive       0.47      0.59      0.53        79\n",
            "\n",
            "    accuracy                           0.74       946\n",
            "   macro avg       0.58      0.64      0.60       946\n",
            "weighted avg       0.77      0.74      0.75       946\n",
            "\n"
          ]
        }
      ]
    },
    {
      "cell_type": "code",
      "source": [
        "print(get_results_tweet(english, LOADED_ENG_LSTM_OOV, tokenizer))"
      ],
      "metadata": {
        "colab": {
          "base_uri": "https://localhost:8080/"
        },
        "id": "dVb7diqqpCpa",
        "outputId": "0c536f0e-c739-4457-af01-7789b1628ccc"
      },
      "execution_count": null,
      "outputs": [
        {
          "output_type": "stream",
          "name": "stdout",
          "text": [
            "              precision    recall  f1-score   support\n",
            "\n",
            "    negative       0.45      0.38      0.41       132\n",
            "     neutral       0.76      0.81      0.79       679\n",
            "    positive       0.46      0.39      0.42       167\n",
            "\n",
            "    accuracy                           0.68       978\n",
            "   macro avg       0.56      0.53      0.54       978\n",
            "weighted avg       0.67      0.68      0.67       978\n",
            "\n"
          ]
        }
      ]
    },
    {
      "cell_type": "code",
      "source": [
        "print(get_results_clean(english_transaltion, LOADED_ENG_LSTM_OOV, tokenizer))"
      ],
      "metadata": {
        "colab": {
          "base_uri": "https://localhost:8080/"
        },
        "id": "KuBw1b0BJy_y",
        "outputId": "97df78a2-73e7-4ce5-df5c-64fec41cdcc1"
      },
      "execution_count": null,
      "outputs": [
        {
          "output_type": "stream",
          "name": "stdout",
          "text": [
            "              precision    recall  f1-score   support\n",
            "\n",
            "    negative       0.37      0.57      0.45       132\n",
            "     neutral       0.88      0.75      0.81       735\n",
            "    positive       0.42      0.62      0.50        79\n",
            "\n",
            "    accuracy                           0.71       946\n",
            "   macro avg       0.56      0.64      0.58       946\n",
            "weighted avg       0.77      0.71      0.73       946\n",
            "\n"
          ]
        }
      ]
    },
    {
      "cell_type": "code",
      "source": [
        "print(get_results_clean(english, LOADED_ENG_LSTM_OOV, tokenizer))"
      ],
      "metadata": {
        "colab": {
          "base_uri": "https://localhost:8080/"
        },
        "id": "I456xQpKJ0mY",
        "outputId": "634babf7-3dc3-461c-fc26-1b7b7c0ecfc1"
      },
      "execution_count": null,
      "outputs": [
        {
          "output_type": "stream",
          "name": "stdout",
          "text": [
            "              precision    recall  f1-score   support\n",
            "\n",
            "    negative       0.42      0.47      0.45       132\n",
            "     neutral       0.77      0.72      0.75       679\n",
            "    positive       0.40      0.47      0.43       167\n",
            "\n",
            "    accuracy                           0.65       978\n",
            "   macro avg       0.53      0.56      0.54       978\n",
            "weighted avg       0.66      0.65      0.65       978\n",
            "\n"
          ]
        }
      ]
    }
  ]
}